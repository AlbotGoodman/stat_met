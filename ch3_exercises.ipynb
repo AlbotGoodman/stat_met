{
 "cells": [
  {
   "cell_type": "markdown",
   "metadata": {},
   "source": [
    "exercises\n",
    "\n",
    "3.6 till 3.6.2\n",
    "8\n",
    "9\n",
    "(10)\n",
    "(11)"
   ]
  }
 ],
 "metadata": {
  "language_info": {
   "name": "python"
  }
 },
 "nbformat": 4,
 "nbformat_minor": 2
}
