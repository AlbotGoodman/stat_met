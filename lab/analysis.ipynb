{
 "cells": [
  {
   "cell_type": "markdown",
   "metadata": {},
   "source": [
    "$y_i = \\beta_0 + \\beta_1 x_i + \\beta_2 x_i^2 + e_i$  \n",
    "\n",
    "$b = (X^TX)^{−1} X^TY$"
   ]
  },
  {
   "cell_type": "markdown",
   "metadata": {},
   "source": [
    "# Dependencies"
   ]
  },
  {
   "cell_type": "code",
   "execution_count": 9,
   "metadata": {},
   "outputs": [],
   "source": [
    "import numpy as np\n",
    "import pandas as pd\n",
    "import scipy.stats as stats\n",
    "from linear_regression import LinearRegression as lr\n",
    "\n",
    "\n",
    "data = pd.read_csv(\"../data/Small-diameter-flow.csv\", index_col=0)\n",
    "X = data[[\"Kinematic\",\"Geometric\", \"Inertial\", \"Observer\"]]\n",
    "y = data[\"Flow\"]"
   ]
  },
  {
   "cell_type": "markdown",
   "metadata": {},
   "source": [
    "# Creating sets"
   ]
  },
  {
   "cell_type": "code",
   "execution_count": 13,
   "metadata": {},
   "outputs": [
    {
     "name": "stdout",
     "output_type": "stream",
     "text": [
      "198\n"
     ]
    }
   ],
   "source": [
    "print(len(X))\n",
    "\n",
    "\n",
    "# train_df = pd.DataFrame(adv[10:160])\n",
    "# val_df = pd.DataFrame(adv[160:])\n",
    "# test_df = pd.DataFrame(adv[:10])\n",
    "\n",
    "# X_train = np.column_stack([np.ones(150), train_df[\"TV\"], train_df[\"radio\"], train_df[\"TV\"] * train_df[\"radio\"]])\n",
    "# Y_train = train_df[\"sales\"]\n",
    "\n",
    "# X_val = np.column_stack([np.ones(40), val_df[\"TV\"], val_df[\"radio\"], val_df[\"TV\"] * val_df[\"radio\"]])\n",
    "# Y_val = val_df[\"sales\"]\n",
    "\n",
    "# X_test = np.column_stack([np.ones(10), test_df[\"TV\"], test_df[\"radio\"], test_df[\"TV\"] * test_df[\"radio\"]])\n",
    "# Y_test = test_df[\"sales\"]"
   ]
  },
  {
   "cell_type": "markdown",
   "metadata": {},
   "source": [
    "# Running the model"
   ]
  },
  {
   "cell_type": "code",
   "execution_count": 12,
   "metadata": {},
   "outputs": [],
   "source": [
    "model = lr()\n",
    "model.fit(X, y)\n",
    "predictions = model.predict(X)\n",
    "evaluation = model.evaluate(X, y)"
   ]
  }
 ],
 "metadata": {
  "kernelspec": {
   "display_name": ".venv",
   "language": "python",
   "name": "python3"
  },
  "language_info": {
   "codemirror_mode": {
    "name": "ipython",
    "version": 3
   },
   "file_extension": ".py",
   "mimetype": "text/x-python",
   "name": "python",
   "nbconvert_exporter": "python",
   "pygments_lexer": "ipython3",
   "version": "3.13.1"
  }
 },
 "nbformat": 4,
 "nbformat_minor": 2
}
