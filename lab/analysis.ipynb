{
 "cells": [
  {
   "cell_type": "markdown",
   "metadata": {},
   "source": [
    "# Analysis"
   ]
  },
  {
   "cell_type": "markdown",
   "metadata": {},
   "source": [
    "## Dependencies and data standardisation"
   ]
  },
  {
   "cell_type": "code",
   "execution_count": 1,
   "metadata": {},
   "outputs": [],
   "source": [
    "import numpy as np\n",
    "import pandas as pd\n",
    "from linear_regression import LinearRegression as lr\n",
    "\n",
    "data = pd.read_csv(\"../data/Small-diameter-flow.csv\", index_col=0)\n",
    "data_std = data.copy()\n",
    "for column in [\"Flow\", \"Kinematic\", \"Geometric\", \"Inertial\"]:\n",
    "    mean = np.mean(data[column])\n",
    "    sample_std_dev = np.std(data[column], ddof=1) # since this is not the population\n",
    "    data_std[column] = (data[column] - mean) / sample_std_dev"
   ]
  },
  {
   "cell_type": "markdown",
   "metadata": {},
   "source": [
    "## Creating prediction sets"
   ]
  },
  {
   "cell_type": "code",
   "execution_count": 2,
   "metadata": {},
   "outputs": [],
   "source": [
    "data_shuffled = data_std.sample(frac=1, random_state=42)  # setting the seed for reproducibility\n",
    "\n",
    "train_indices = round(0.8 * len(data_shuffled))\n",
    "val_indices = round(0.25 * train_indices)\n",
    "test_indices = round(0.2 * len(data_shuffled))\n",
    "\n",
    "test_df = pd.DataFrame(data_shuffled[:test_indices])\n",
    "train_df = pd.DataFrame(data_shuffled[test_indices:])\n",
    "val_df = pd.DataFrame(train_df[:val_indices])\n",
    "train_df = pd.DataFrame(train_df[val_indices:])\n",
    "\n",
    "X_train = np.column_stack([np.ones(len(train_df)), train_df[\"Kinematic\"], train_df[\"Geometric\"], train_df[\"Inertial\"], train_df[\"Observer\"]])\n",
    "y_train = train_df[\"Flow\"]\n",
    "\n",
    "X_val = np.column_stack([np.ones(len(val_df)), val_df[\"Kinematic\"], val_df[\"Geometric\"], val_df[\"Inertial\"], val_df[\"Observer\"]])\n",
    "y_val = val_df[\"Flow\"]\n",
    "\n",
    "X_test = np.column_stack([np.ones(len(test_df)), test_df[\"Kinematic\"], test_df[\"Geometric\"], test_df[\"Inertial\"], test_df[\"Observer\"]])\n",
    "y_test = test_df[\"Flow\"]"
   ]
  },
  {
   "cell_type": "markdown",
   "metadata": {},
   "source": [
    "## Running the model and printing outputs"
   ]
  },
  {
   "cell_type": "code",
   "execution_count": 3,
   "metadata": {},
   "outputs": [
    {
     "name": "stdout",
     "output_type": "stream",
     "text": [
      "Number of features: 4\n",
      "Number of rows: 118\n",
      "\n",
      "Variance: 2.96e-03\n",
      "Standard deviation: 5.44e-02\n",
      "\n",
      "Significance of f-statistic: 3.93e-143\n",
      "Significance of t-statistic for ...\n",
      "... Kinematic: 1.75e-75\n",
      "... Geometric: 3.60e-157\n",
      "... Inertial:  2.06e-245\n",
      "\n",
      "Relevance (R²): 9.97e-01\n",
      "\n",
      "Training relevance ...\n",
      "... RSE:  5.37e-02\n",
      "... MSE:  2.84e-03\n",
      "... RMSE: 5.32e-02\n",
      "\n",
      "Validation relevance ...\n",
      "... RSE:  3.19e-02\n",
      "... MSE:  9.99e-04\n",
      "... RMSE: 3.16e-02\n",
      "\n",
      "Correlation pairs ...\n",
      "... Kinematic - Geometric: 0.8688\n",
      "... Kinematic - Inertial: 0.9720\n",
      "... Kinematic - Observer: 0.1783\n",
      "... Geometric - Inertial: 0.9196\n",
      "... Geometric - Observer: 0.2242\n",
      "... Inertial - Observer: 0.1774\n",
      "\n",
      "Confidence intervals for each coefficient ...\n",
      "... β0: -0.0175 ± 0.0011 | Lower: -0.0187, Upper: -0.0164\n",
      "... β1: 0.2968 ± 0.0036 | Lower: 0.2932, Upper: 0.3003\n",
      "... β2: 1.1006 ± 0.0022 | Lower: 1.0984, Upper: 1.1028\n",
      "... β3: -0.3989 ± 0.0045 | Lower: -0.4034, Upper: -0.3944\n",
      "... β4: 0.0191 ± 0.0017 | Lower: 0.0174, Upper: 0.0208\n"
     ]
    },
    {
     "name": "stderr",
     "output_type": "stream",
     "text": [
      "/home/albot/coding/repos/stat_met/.venv/lib/python3.13/site-packages/numpy/lib/_function_base_impl.py:3045: RuntimeWarning: invalid value encountered in divide\n",
      "  c /= stddev[:, None]\n",
      "/home/albot/coding/repos/stat_met/.venv/lib/python3.13/site-packages/numpy/lib/_function_base_impl.py:3046: RuntimeWarning: invalid value encountered in divide\n",
      "  c /= stddev[None, :]\n"
     ]
    }
   ],
   "source": [
    "model = lr()\n",
    "model.fit(X_train, y_train)\n",
    "predictions = model.predict(X_val)\n",
    "\n",
    "print(f\"Number of features: {model.d}\")\n",
    "print(f\"Number of rows: {model.n}\") # from X_train\n",
    "print()\n",
    "print(f\"Variance: {model.variance(X_train, y_train):.2e}\")\n",
    "print(f\"Standard deviation: {model.standard_deviation(X_train, y_train):.2e}\")\n",
    "print()\n",
    "sig = model.significance(X_train, y_train) # returns dictionary with f_pvalue and ti_pvalues\n",
    "print(f\"Significance of f-statistic: {sig[\"f_pvalue\"]:.2e}\")\n",
    "print(f\"Significance of t-statistic for ...\\n... Kinematic: {sig[\"ti_pvalues\"][0]:.2e}\\n... Geometric: {sig[\"ti_pvalues\"][1]:.2e}\\n... Inertial:  {sig[\"ti_pvalues\"][2]:.2e}\")\n",
    "print()\n",
    "print(f\"Relevance (R²): {model.r_squared(X_train, y_train):.2e}\")\n",
    "print()\n",
    "t_rel = model.relevance(X_train, y_train) # returns dictionary with RSE, MSE and RMSE\n",
    "t_r2 = model.r_squared(X_train, y_train)\n",
    "v_rel = model.relevance(X_val, y_val)\n",
    "v_r2 = model.r_squared(X_val, y_val)\n",
    "t_rel = {key: value.item() for key, value in t_rel.items()}\n",
    "v_rel = {key: value.item() for key, value in v_rel.items()}\n",
    "print(f\"Training relevance ...\\n... RSE:  {t_rel[\"RSE\"]:.2e}\\n... MSE:  {t_rel[\"MSE\"]:.2e}\\n... RMSE: {t_rel[\"RMSE\"]:.2e}\")\n",
    "print()\n",
    "print(f\"Validation relevance ...\\n... RSE:  {v_rel[\"RSE\"]:.2e}\\n... MSE:  {v_rel[\"MSE\"]:.2e}\\n... RMSE: {v_rel[\"RMSE\"]:.2e}\")\n",
    "print()\n",
    "r = model.pearson(X_train) # returns a correlation matrix\n",
    "cols = [\"Intercept\", \"Kinematic\", \"Geometric\", \"Inertial\", \"Observer\"]\n",
    "print(f\"Correlation pairs ...\")\n",
    "for i in range(len(cols)):\n",
    "    if i == 0:\n",
    "        continue\n",
    "    else:\n",
    "        for j in range(i + 1, len(cols)):\n",
    "            print(f\"... {cols[i]} - {cols[j]}: {r[i, j]:.4f}\")\n",
    "print()\n",
    "ci = model.confidence_intervals(X_train, y_train) # returns the confidence intervals for all parameters\n",
    "print(\"Confidence intervals for each coefficient ...\")\n",
    "for i, margin in enumerate(ci):\n",
    "    print(f\"... β{i}: {model.b[i]:.4f} ± {margin:.4f} | Lower: {model.b[i] - margin:.4f}, Upper: {model.b[i] + margin:.4f}\")"
   ]
  },
  {
   "cell_type": "markdown",
   "metadata": {},
   "source": [
    "# To do"
   ]
  },
  {
   "cell_type": "markdown",
   "metadata": {},
   "source": [
    "1. jag får fel på self._n när jag växlar mellan träningsdata och valideringsdata (t ex i relevance())\n",
    "\n",
    "def _update_n_d(self, X, y):\n",
    "    self._n = y.shape[0]\n",
    "    self._d = X.shape[1] - 1\n",
    "\n",
    "En okej lösning på problemet, I guess. Borde kolla vad som är conventional. \n",
    "\n",
    "2. dubbelkolla data leakage så att inte samma rader finns test, validering, test \n",
    "\n",
    "3. Normalisera datan? \n",
    "\n",
    "4. Analysera observer bias \n",
    "\n",
    "5. Lös RuntimeWarning\n",
    "\n",
    "def pearson(self, X):\n",
    "    epsilon = 1e-10  # Small value to avoid division by zero\n",
    "    corr_matrix = np.corrcoef(X, rowvar=False)\n",
    "    stddev = np.sqrt(np.diag(corr_matrix))\n",
    "    stddev[stddev < epsilon] = epsilon  # Replace small stddev values with epsilon\n",
    "    corr_matrix /= stddev[:, None]\n",
    "    corr_matrix /= stddev[None, :]\n",
    "    return corr_matrix\n",
    "\n",
    "Något med att noll eller nära noll värden ger varningen så att jag kan addera en epsilon för att det inte ska bli så\n",
    "\n",
    "6. Plotta\n",
    "\n",
    "7. SSE återkommer flera gånger - DRY"
   ]
  },
  {
   "cell_type": "markdown",
   "metadata": {},
   "source": [
    "# Test"
   ]
  },
  {
   "cell_type": "code",
   "execution_count": 4,
   "metadata": {},
   "outputs": [
    {
     "name": "stdout",
     "output_type": "stream",
     "text": [
      "Confidence intervals for each coefficient ...\n",
      "... β0: -2.5838 ± 0.1004 | Lower: -2.6842, Upper: -2.4834\n",
      "... β1: 0.8700 ± 0.0116 | Lower: 0.8584, Upper: 0.8816\n",
      "... β2: 3.6032 ± 0.0079 | Lower: 3.5953, Upper: 3.6110\n",
      "... β3: -0.7519 ± 0.0093 | Lower: -0.7612, Upper: -0.7426\n",
      "... β4: 0.0169 ± 0.0028 | Lower: 0.0141, Upper: 0.0196\n"
     ]
    }
   ],
   "source": [
    "# ökorgsdg\n",
    "ökorgsdg_df = data.copy()\n",
    "\n",
    "X_ökorgsdg = np.column_stack([np.ones(len(ökorgsdg_df)), ökorgsdg_df[\"Kinematic\"], ökorgsdg_df[\"Geometric\"], ökorgsdg_df[\"Inertial\"], ökorgsdg_df[\"Observer\"]])\n",
    "y_ökorgsdg = ökorgsdg_df[\"Flow\"]\n",
    "\n",
    "model = lr()\n",
    "model.fit(X_ökorgsdg, y_ökorgsdg)\n",
    "\n",
    "ci = model.confidence_intervals(X_ökorgsdg, y_ökorgsdg) # returns the confidence intervals for all parameters\n",
    "print(\"Confidence intervals for each coefficient ...\")\n",
    "for i, margin in enumerate(ci):\n",
    "    print(f\"... β{i}: {model.b[i]:.4f} ± {margin:.4f} | Lower: {model.b[i] - margin:.4f}, Upper: {model.b[i] + margin:.4f}\")"
   ]
  }
 ],
 "metadata": {
  "kernelspec": {
   "display_name": ".venv",
   "language": "python",
   "name": "python3"
  },
  "language_info": {
   "codemirror_mode": {
    "name": "ipython",
    "version": 3
   },
   "file_extension": ".py",
   "mimetype": "text/x-python",
   "name": "python",
   "nbconvert_exporter": "python",
   "pygments_lexer": "ipython3",
   "version": "3.13.1"
  }
 },
 "nbformat": 4,
 "nbformat_minor": 2
}
