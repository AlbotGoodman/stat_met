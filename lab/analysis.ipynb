{
 "cells": [
  {
   "cell_type": "code",
   "execution_count": null,
   "metadata": {},
   "outputs": [],
   "source": [
    "import numpy as np\n",
    "import pandas as pd\n",
    "import seaborn as sns\n",
    "import scipy.stats as stats\n",
    "import matplotlib.pyplot as plt\n",
    "from linear_regression import LinearRegression as lr\n",
    "\n",
    "data = pd.read_csv(\"../data/Small-diameter-flow.csv\", index_col=0)\n",
    "\n",
    "\n",
    "# Creating sets\n",
    "\n",
    "data_shuffled = data.sample(frac=1, random_state=42)  # setting the seed for reproducibility\n",
    "\n",
    "train_indices = round(0.8 * len(data_shuffled))\n",
    "val_indices = round(0.25 * train_indices)\n",
    "test_indices = round(0.2 * len(data_shuffled))\n",
    "\n",
    "test_df = pd.DataFrame(data_shuffled[:test_indices])\n",
    "train_df = pd.DataFrame(data_shuffled[test_indices:])\n",
    "val_df = pd.DataFrame(train_df[:val_indices])\n",
    "train_df = pd.DataFrame(train_df[val_indices:])\n",
    "\n",
    "X_train = np.column_stack([np.ones(len(train_df)), train_df[\"Kinematic\"], train_df[\"Geometric\"], train_df[\"Inertial\"], train_df[\"Observer\"]])\n",
    "y_train = train_df[\"Flow\"]\n",
    "\n",
    "X_val = np.column_stack([np.ones(len(val_df)), val_df[\"Kinematic\"], val_df[\"Geometric\"], val_df[\"Inertial\"], val_df[\"Observer\"]])\n",
    "y_val = val_df[\"Flow\"]\n",
    "\n",
    "X_test = np.column_stack([np.ones(len(test_df)), test_df[\"Kinematic\"], test_df[\"Geometric\"], test_df[\"Inertial\"], test_df[\"Observer\"]])\n",
    "y_test = test_df[\"Flow\"]\n",
    "\n",
    "\n",
    "# Running the model\n",
    "\n",
    "model = lr()\n",
    "model.fit(X_train, y_train)\n",
    "predictions = model.predict(X_val)\n",
    "\n",
    "print(f\"Number of features: {model.d}\")\n",
    "print(f\"Number of rows: {model.n}\")     # from X_train\n",
    "print(f\"Variance: {model.variance(X_train, y_train):.2e}\")\n",
    "print(f\"Standard deviation: {model.standard_deviation(X_train, y_train):.2e}\")\n",
    "\n",
    "# returns dictionary with f_pvalue and ti_pvalues\n",
    "sig = model.significance(X_train, y_train)\n",
    "print(f\"Significance of f-statistic: {sig[\"f_pvalue\"]:.2e}\")\n",
    "print(f\"Significance of t-statistic for ...\\n... Kinematic: {sig[\"ti_pvalues\"][0]:.2e}\\n... Geometric: {sig[\"ti_pvalues\"][1]:.2e}\\n... Inertial: {sig[\"ti_pvalues\"][2]:.2e}\")\n",
    "\n",
    "print(f\"Relevance (R²): {model.relevance(X_train, y_train):.2e}\")\n",
    "\n",
    "# returns dictionary with RSE, MSE and RMSE\n",
    "t_rel = model.test_relevance(X_train, y_train)\n",
    "v_rel = model.test_relevance(X_val, y_val)\n",
    "t_rel = {key: value.item() for key, value in t_rel.items()}\n",
    "v_rel = {key: value.item() for key, value in v_rel.items()}\n",
    "print(f\"Training relevance ...\\n... RSE: {t_rel[\"RSE\"]:.2e}\\n... MSE: {t_rel[\"MSE\"]:.2e}\\n... RMSE:  {t_rel[\"RMSE\"]:.2e}\")\n",
    "print(f\"Validation relevance ...\\n... RSE: {v_rel[\"RSE\"]:.2e}\\n... MSE: {v_rel[\"MSE\"]:.2e}\\n... RMSE:  {v_rel[\"RMSE\"]:.2e}\")\n",
    "\n",
    "# returns Pearson dictionary\n",
    "r = model.pearson(X_train, y_train)\n",
    "print(f\"Kinematic - Geometric: {r[\"kin_geo\"][0]:.2e} (correlation), {r[\"kin_geo\"][1]:.2e} (p-value)\")\n",
    "print(f\"Kinematic - Inertial: {r[\"kin_ine\"][0]:.2e} (correlation), {r[\"kin_ine\"][1]:.2e} (p-value)\")\n",
    "print(f\"Geometric - Inertial: {r[\"geo_ine\"][0]:.2e} (correlation), {r[\"geo_ine\"][1]:.2e} (p-value)\")"
   ]
  },
  {
   "cell_type": "markdown",
   "metadata": {},
   "source": [
    "# To do"
   ]
  },
  {
   "cell_type": "code",
   "execution_count": null,
   "metadata": {},
   "outputs": [],
   "source": [
    "# These should be in the class\n",
    "\n",
    "n = model.n\n",
    "SSX = (n * np.sum(np.square(X_train)) - np.square(np.sum(X_train))) / n          # Sxx, variance in X\n",
    "SXY = (n * np.sum(X_train[:, 1]@y_train) - (np.sum(X_train[:, 1]) * np.sum(y_train))) / n          # Sxy, covariance between X and y\n",
    "slope = SXY / SSX\n"
   ]
  }
 ],
 "metadata": {
  "kernelspec": {
   "display_name": ".venv",
   "language": "python",
   "name": "python3"
  },
  "language_info": {
   "codemirror_mode": {
    "name": "ipython",
    "version": 3
   },
   "file_extension": ".py",
   "mimetype": "text/x-python",
   "name": "python",
   "nbconvert_exporter": "python",
   "pygments_lexer": "ipython3",
   "version": "3.13.1"
  }
 },
 "nbformat": 4,
 "nbformat_minor": 2
}
