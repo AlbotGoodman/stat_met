{
 "cells": [
  {
   "cell_type": "markdown",
   "metadata": {},
   "source": [
    "# Script"
   ]
  },
  {
   "cell_type": "code",
   "execution_count": 42,
   "metadata": {},
   "outputs": [],
   "source": [
    "import numpy as np\n",
    "import scipy.stats as stats\n",
    "\n",
    "\n",
    "class lr:\n",
    "\n",
    "    def __init__(self):\n",
    "        self._d = None\n",
    "        self._n = None\n",
    "        self._con_lvl = 0.95\n",
    "        self.b = None\n",
    "\n",
    "    @property\n",
    "    def d(self):\n",
    "        return self._d\n",
    "    \n",
    "    @property\n",
    "    def n(self):\n",
    "        return self._n\n",
    "\n",
    "    @property\n",
    "    def confidence_level(self):\n",
    "        return self._con_lvl\n",
    "\n",
    "    def fit(self, X, y):\n",
    "        self.b = np.linalg.pinv(X.T @ X) @ X.T @ y\n",
    "        self._d = len(self.b) - 1\n",
    "        self._n = y.shape[0]\n",
    "\n",
    "    def predict(self, X):\n",
    "        return X @ self.b\n",
    "\n",
    "    def variance(self, X, y):\n",
    "        SSE = np.sum(np.square(y - X @ self.b))\n",
    "        return SSE / (self._n - self._d - 1)\n",
    "\n",
    "    def standard_deviation(self, X, y):\n",
    "        var = self.variance(X, y)\n",
    "        return np.sqrt(var)\n",
    "\n",
    "    def significance(self, X, y):\n",
    "        var = self.variance(X, y)\n",
    "        std_dev = np.sqrt(var)\n",
    "        SSE = np.sum(np.square(y - X @ self.b))\n",
    "        SST = np.sum(np.square(y - np.mean(y)))\n",
    "        SSR = SST - SSE\n",
    "        f_stat = (SSR / self._d) / var\n",
    "        f_pvalue = stats.f.sf(f_stat, self._d, self._n - self._d - 1)\n",
    "        cov_matrix = np.linalg.pinv(X.T @ X) * var\n",
    "        ti_stat = [self.b[i] / (std_dev * np.sqrt(cov_matrix[i, i])) for i in range(self._d + 1)]\n",
    "        ti_pvalues = [2 * min(stats.t.cdf(i, self._n - self._d - 1), stats.t.sf(i, self._n - self._d - 1)) for i in ti_stat]\n",
    "        return {\n",
    "            \"f_pvalue\": f_pvalue, \n",
    "            \"ti_pvalues\": ti_pvalues\n",
    "        }\n",
    "\n",
    "    def relevance(self, X, y):\n",
    "        SSE = np.sum(np.square(y - X @ self.b))\n",
    "        SST = np.sum(np.square(y - np.mean(y)))\n",
    "        SSR = SST - SSE\n",
    "        R_squared = SSR / SST\n",
    "        return R_squared\n",
    "    \n",
    "    def test_relevance(self, X, y):\n",
    "        SSE = np.sum(np.square(y - X @ self.b))\n",
    "        RSE = np.sqrt(SSE / (self._n - 2))\n",
    "        MSE = (1 / self._n) * SSE\n",
    "        RMSE = np.sqrt(MSE)\n",
    "        return {\n",
    "            \"RSE\": RSE,\n",
    "            \"MSE\": MSE, \n",
    "            \"RMSE\": RMSE\n",
    "        }\n",
    "\n",
    "    def pearson(self, X, y):\n",
    "        kin_geo = stats.pearsonr(X[:,1], X[:,2])\n",
    "        kin_ine = stats.pearsonr(X[:,1], X[:,3])\n",
    "        geo_ine = stats.pearsonr(X[:,2], X[:,3])\n",
    "        return {\n",
    "            \"kin_geo\": kin_geo,\n",
    "            \"kin_ine\": kin_ine,\n",
    "            \"geo_ine\": geo_ine\n",
    "        }"
   ]
  },
  {
   "cell_type": "markdown",
   "metadata": {},
   "source": [
    "# Analysis"
   ]
  },
  {
   "cell_type": "code",
   "execution_count": 43,
   "metadata": {},
   "outputs": [
    {
     "name": "stdout",
     "output_type": "stream",
     "text": [
      "Number of features: 4\n",
      "Number of rows: 118\n",
      "Variance: 6.39e-03\n",
      "Standard deviation: 7.99e-02\n",
      "Significance of f-statistic: 3.93e-143\n",
      "Significance of t-statistic for ...\n",
      "... Kinematic: 1.24e-90\n",
      "... Geometric: 2.41e-138\n",
      "... Inertial: 1.54e-226\n",
      "Relevance (R²): 9.97e-01\n",
      "Training relevance ...\n",
      "... RSE: 7.89e-02\n",
      "... MSE: 6.12e-03\n",
      "... RMSE:  7.82e-02\n",
      "Validation relevance ...\n",
      "... RSE: 4.68e-02\n",
      "... MSE: 2.16e-03\n",
      "... RMSE:  4.64e-02\n",
      "Kinematic - Geometric: 8.69e-01 (correlation), 3.34e-37 (p-value)\n",
      "Kinematic - Inertial: 9.72e-01 (correlation), 7.72e-75 (p-value)\n",
      "Geometric - Inertial: 9.20e-01 (correlation), 6.91e-49 (p-value)\n"
     ]
    }
   ],
   "source": [
    "import numpy as np\n",
    "import pandas as pd\n",
    "import seaborn as sns\n",
    "import scipy.stats as stats\n",
    "import matplotlib.pyplot as plt\n",
    "# from linear_regression import LinearRegression as lr\n",
    "\n",
    "data = pd.read_csv(\"../data/Small-diameter-flow.csv\", index_col=0)\n",
    "\n",
    "\n",
    "# Creating sets\n",
    "\n",
    "data_shuffled = data.sample(frac=1, random_state=42)  # setting the seed for reproducibility\n",
    "\n",
    "train_indices = round(0.8 * len(data_shuffled))\n",
    "val_indices = round(0.25 * train_indices)\n",
    "test_indices = round(0.2 * len(data_shuffled))\n",
    "\n",
    "test_df = pd.DataFrame(data_shuffled[:test_indices])\n",
    "train_df = pd.DataFrame(data_shuffled[test_indices:])\n",
    "val_df = pd.DataFrame(train_df[:val_indices])\n",
    "train_df = pd.DataFrame(train_df[val_indices:])\n",
    "\n",
    "X_train = np.column_stack([np.ones(len(train_df)), train_df[\"Kinematic\"], train_df[\"Geometric\"], train_df[\"Inertial\"], train_df[\"Observer\"]])\n",
    "y_train = train_df[\"Flow\"]\n",
    "\n",
    "X_val = np.column_stack([np.ones(len(val_df)), val_df[\"Kinematic\"], val_df[\"Geometric\"], val_df[\"Inertial\"], val_df[\"Observer\"]])\n",
    "y_val = val_df[\"Flow\"]\n",
    "\n",
    "X_test = np.column_stack([np.ones(len(test_df)), test_df[\"Kinematic\"], test_df[\"Geometric\"], test_df[\"Inertial\"], test_df[\"Observer\"]])\n",
    "y_test = test_df[\"Flow\"]\n",
    "\n",
    "\n",
    "# Running the model\n",
    "\n",
    "model = lr()\n",
    "model.fit(X_train, y_train)\n",
    "predictions = model.predict(X_val)\n",
    "\n",
    "print(f\"Number of features: {model.d}\")\n",
    "print(f\"Number of rows: {model.n}\")     # from X_train\n",
    "print(f\"Variance: {model.variance(X_train, y_train):.2e}\")\n",
    "print(f\"Standard deviation: {model.standard_deviation(X_train, y_train):.2e}\")\n",
    "\n",
    "# returns dictionary with f_pvalue and ti_pvalues\n",
    "sig = model.significance(X_train, y_train)\n",
    "print(f\"Significance of f-statistic: {sig[\"f_pvalue\"]:.2e}\")\n",
    "print(f\"Significance of t-statistic for ...\\n... Kinematic: {sig[\"ti_pvalues\"][0]:.2e}\\n... Geometric: {sig[\"ti_pvalues\"][1]:.2e}\\n... Inertial: {sig[\"ti_pvalues\"][2]:.2e}\")\n",
    "\n",
    "print(f\"Relevance (R²): {model.relevance(X_train, y_train):.2e}\")\n",
    "\n",
    "# returns dictionary with RSE, MSE and RMSE\n",
    "t_rel = model.test_relevance(X_train, y_train)\n",
    "v_rel = model.test_relevance(X_val, y_val)\n",
    "t_rel = {key: value.item() for key, value in t_rel.items()}\n",
    "v_rel = {key: value.item() for key, value in v_rel.items()}\n",
    "print(f\"Training relevance ...\\n... RSE: {t_rel[\"RSE\"]:.2e}\\n... MSE: {t_rel[\"MSE\"]:.2e}\\n... RMSE:  {t_rel[\"RMSE\"]:.2e}\")\n",
    "print(f\"Validation relevance ...\\n... RSE: {v_rel[\"RSE\"]:.2e}\\n... MSE: {v_rel[\"MSE\"]:.2e}\\n... RMSE:  {v_rel[\"RMSE\"]:.2e}\")\n",
    "\n",
    "# returns Pearson dictionary\n",
    "r = model.pearson(X_train, y_train)\n",
    "print(f\"Kinematic - Geometric: {r[\"kin_geo\"][0]:.2e} (correlation), {r[\"kin_geo\"][1]:.2e} (p-value)\")\n",
    "print(f\"Kinematic - Inertial: {r[\"kin_ine\"][0]:.2e} (correlation), {r[\"kin_ine\"][1]:.2e} (p-value)\")\n",
    "print(f\"Geometric - Inertial: {r[\"geo_ine\"][0]:.2e} (correlation), {r[\"geo_ine\"][1]:.2e} (p-value)\")"
   ]
  },
  {
   "cell_type": "markdown",
   "metadata": {},
   "source": [
    "# To do"
   ]
  },
  {
   "cell_type": "code",
   "execution_count": 55,
   "metadata": {},
   "outputs": [],
   "source": [
    "# These should be in the class\n",
    "\n",
    "n = model.n\n",
    "SSX = np.sum(np.square(X_train - np.mean(X_train))) / (n - 1)\n",
    "SST = np.sum(np.square(y_train - np.mean(y_train)))\n",
    "SXY = np.cov(X_train[:, 1], y_train)[0, 1]\n",
    "# konfidensintervall β1 ±2 ·SE(ˆβ1)\n",
    "# kolla signifikansen på båda observers för sista VG-frågan\n",
    "# standardisera variablerna "
   ]
  },
  {
   "cell_type": "markdown",
   "metadata": {},
   "source": [
    "# Har frågat Raphael om detta"
   ]
  },
  {
   "cell_type": "code",
   "execution_count": 45,
   "metadata": {},
   "outputs": [
    {
     "name": "stdout",
     "output_type": "stream",
     "text": [
      "Syy: 257.13475005176133\n",
      "TSS: 257.13475005176053\n",
      "\n",
      "Sxx1: -8789.660897107407\n",
      "Sxx2: -75.12530681288384\n",
      "SSX: 16640.532278483977\n",
      "ISLP: 142.22677161097417\n"
     ]
    }
   ],
   "source": [
    "Syy = (n * np.sum(np.square(y_train)) - np.square(np.sum(y_train))) / n             # från Raphaels code-along\n",
    "TSS = np.sum(np.square(y_train - np.mean(y_train)))                                 # från andra källor\n",
    "\n",
    "Sxx1 = (n * np.sum(np.square(X_train)) - np.square(np.sum(X_train))) / n            # från Raphaels code-along\n",
    "Sxx2 = (n * np.sum(np.square(X_train)) - np.square(np.sum(X_train))) / (n * (n-1))  # från handledning\n",
    "SSX = np.sum(np.square(X_train - np.mean(X_train)))                                 # från andra källor\n",
    "\n",
    "Sxx_ISLP = np.sum(np.square(X_train - np.mean(X_train))) / (n - 1)  # page 183 in ISLP\n",
    "\n",
    "print(f\"Syy: {Syy}\\nTSS: {TSS}\")\n",
    "print()\n",
    "print(f\"Sxx1: {Sxx1}\\nSxx2: {Sxx2}\\nSSX: {SSX}\")\n",
    "print(f\"ISLP: {Sxx_ISLP}\")\n"
   ]
  },
  {
   "cell_type": "code",
   "execution_count": 54,
   "metadata": {},
   "outputs": [
    {
     "name": "stdout",
     "output_type": "stream",
     "text": [
      "Covariance between X and y: [0.         0.64369374 0.67668221 1.06690326 0.17733483]\n"
     ]
    }
   ],
   "source": [
    "def calculate_covariance(X, y):\n",
    "    n = len(y)\n",
    "    mean_X = np.mean(X, axis=0)\n",
    "    mean_y = np.mean(y)\n",
    "    y = np.array(y)  # Convert y to numpy array\n",
    "    covariance = np.sum((X - mean_X) * (y[:, np.newaxis] - mean_y), axis=0) / (n - 1)\n",
    "    return covariance\n",
    "\n",
    "covariance_X_y = calculate_covariance(X_train, y_train)\n",
    "print(\"Covariance between X and y:\", covariance_X_y)"
   ]
  }
 ],
 "metadata": {
  "kernelspec": {
   "display_name": ".venv",
   "language": "python",
   "name": "python3"
  },
  "language_info": {
   "codemirror_mode": {
    "name": "ipython",
    "version": 3
   },
   "file_extension": ".py",
   "mimetype": "text/x-python",
   "name": "python",
   "nbconvert_exporter": "python",
   "pygments_lexer": "ipython3",
   "version": "3.13.1"
  }
 },
 "nbformat": 4,
 "nbformat_minor": 2
}
