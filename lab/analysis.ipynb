{
 "cells": [
  {
   "cell_type": "markdown",
   "metadata": {},
   "source": [
    "# Script"
   ]
  },
  {
   "cell_type": "code",
   "execution_count": 280,
   "metadata": {},
   "outputs": [],
   "source": [
    "import numpy as np\n",
    "import scipy.stats as stats\n",
    "\n",
    "\n",
    "class lr:\n",
    "\n",
    "    def __init__(self):\n",
    "        self._d = None\n",
    "        self._n = None\n",
    "        self._con_lvl = 0.95\n",
    "        self.a = 1-self._con_lvl    # alpha\n",
    "        self.b = None\n",
    "\n",
    "    @property\n",
    "    def d(self):\n",
    "        return self._d\n",
    "    \n",
    "    @property\n",
    "    def n(self):\n",
    "        return self._n\n",
    "\n",
    "    @property\n",
    "    def confidence_level(self):\n",
    "        return self._con_lvl\n",
    "\n",
    "    def fit(self, X, y):\n",
    "        self.b = np.linalg.pinv(X.T @ X) @ X.T @ y\n",
    "        self._d = len(self.b) - 1\n",
    "        self._n = y.shape[0]\n",
    "\n",
    "    def predict(self, X):\n",
    "        return X @ self.b\n",
    "\n",
    "    def variance(self, X, y):\n",
    "        SSE = np.sum(np.square(y - X @ self.b))\n",
    "        return SSE / (self._n - self._d - 1)\n",
    "\n",
    "    def standard_deviation(self, X, y):\n",
    "        var = self.variance(X, y)\n",
    "        return np.sqrt(var)\n",
    "\n",
    "    def significance(self, X, y):\n",
    "        var = self.variance(X, y)\n",
    "        std_dev = np.sqrt(var)\n",
    "        SSE = np.sum(np.square(y - X @ self.b))\n",
    "        SST = np.sum(np.square(y - np.mean(y)))\n",
    "        SSR = SST - SSE\n",
    "        f_stat = (SSR / self._d) / var\n",
    "        f_pvalue = stats.f.sf(f_stat, self._d, self._n - self._d - 1)\n",
    "        cov_matrix = np.linalg.pinv(X.T @ X) * var\n",
    "        ti_stat = [self.b[i] / (std_dev * np.sqrt(cov_matrix[i, i])) for i in range(self._d)]\n",
    "        ti_pvalues = [2 * min(stats.t.cdf(i, self._n - self._d - 1), stats.t.sf(i, self._n - self._d - 1)) for i in ti_stat]\n",
    "        return {\n",
    "            \"f_pvalue\": f_pvalue, \n",
    "            \"ti_pvalues\": ti_pvalues\n",
    "        }\n",
    "\n",
    "    def r_squared(self, X, y):\n",
    "        SSE = np.sum(np.square(y - X @ self.b))\n",
    "        SST = np.sum(np.square(y - np.mean(y)))\n",
    "        SSR = SST - SSE\n",
    "        return SSR / SST\n",
    "    \n",
    "    def test_relevance(self, X, y):\n",
    "        SSE = np.sum(np.square(y - X @ self.b))\n",
    "        RSE = np.sqrt(SSE / (self._n - 2))\n",
    "        MSE = (1 / self._n) * SSE\n",
    "        RMSE = np.sqrt(MSE)\n",
    "        return {\n",
    "            \"RSE\": RSE,\n",
    "            \"MSE\": MSE, \n",
    "            \"RMSE\": RMSE\n",
    "        }\n",
    "\n",
    "    def pearson(self, X):\n",
    "        return np.corrcoef(X, rowvar=False) # RuntimeWarning: invalid value encountered in divide c /= stddev[:, None]\n",
    "    \n",
    "    def confidence_intervals(self, X, y):\n",
    "        var = self.variance(X, y)\n",
    "        std_dev = self.standard_deviation(X, y)\n",
    "        cov_matrix = np.linalg.pinv(X.T @ X) * var\n",
    "        t_crit = stats.t.ppf(1 - self.a / 2, self._n - self._d - 1)\n",
    "        ci = []\n",
    "        for i in range(self._d + 1):\n",
    "            std_err = std_dev * np.sqrt(cov_matrix[i,i])\n",
    "            margin = t_crit * std_err\n",
    "            lower = self.b[i] - margin\n",
    "            upper = self.b[i] + margin\n",
    "            ci.append((lower, upper))\n",
    "        return ci"
   ]
  },
  {
   "cell_type": "markdown",
   "metadata": {},
   "source": [
    "# Analysis"
   ]
  },
  {
   "cell_type": "markdown",
   "metadata": {},
   "source": [
    "## Dependencies and data standardisation"
   ]
  },
  {
   "cell_type": "code",
   "execution_count": 281,
   "metadata": {},
   "outputs": [],
   "source": [
    "import numpy as np\n",
    "import pandas as pd\n",
    "import seaborn as sns\n",
    "import scipy.stats as stats\n",
    "import matplotlib.pyplot as plt\n",
    "# from linear_regression import LinearRegression as lr\n",
    "\n",
    "data = pd.read_csv(\"../data/Small-diameter-flow.csv\", index_col=0)\n",
    "data_std = data.copy()\n",
    "for column in [\"Flow\", \"Kinematic\", \"Geometric\", \"Inertial\"]:\n",
    "    mean = np.mean(data[column])\n",
    "    sample_std_dev = np.std(data[column], ddof=1) # since this is not the population\n",
    "    data_std[column] = (data[column] - mean) / sample_std_dev"
   ]
  },
  {
   "cell_type": "markdown",
   "metadata": {},
   "source": [
    "## Testing for observer bias"
   ]
  },
  {
   "cell_type": "code",
   "execution_count": 282,
   "metadata": {},
   "outputs": [],
   "source": [
    "# use the whole data set\n",
    "# run tests\n",
    "# print results\n",
    "# decide whether to include or exclude observer column"
   ]
  },
  {
   "cell_type": "code",
   "execution_count": 283,
   "metadata": {},
   "outputs": [
    {
     "name": "stdout",
     "output_type": "stream",
     "text": [
      "Significance of f-statistic: 0.0105\n",
      "Significance of t-statistic: 0.0839\n",
      "\n",
      "Confidence intervals for each coefficient ...\n",
      "... β0: -0.1603 ± 0.5545\n",
      "... β1: 0.3648 ± 0.8366\n",
      "\n",
      "Correlation: 0.1815\n",
      "\n",
      "R²: 0.0329\n"
     ]
    }
   ],
   "source": [
    "bias_df = data_std[[\"Flow\", \"Observer\"]]\n",
    "X_bias = np.column_stack([np.ones(len(bias_df)), bias_df[\"Observer\"]])\n",
    "y_bias = bias_df[\"Flow\"]\n",
    "\n",
    "bias = lr()\n",
    "bias.fit(X_bias, y_bias)\n",
    "bias_pvalue = bias.significance(X_bias, y_bias)\n",
    "ci_bias = bias.confidence_intervals(X_bias, y_bias)\n",
    "r_bias = bias.pearson(bias_df)\n",
    "R2_bias = bias.r_squared(X_bias, y_bias)\n",
    "\n",
    "print(f\"Significance of f-statistic: {bias_pvalue['f_pvalue']:.4f}\")\n",
    "print(f\"Significance of t-statistic: {bias_pvalue['ti_pvalues'][0]:.4f}\")\n",
    "print()\n",
    "print(\"Confidence intervals for each coefficient ...\")\n",
    "for i, (lower, upper) in enumerate(ci_bias):\n",
    "    print(f\"... β{i}: {bias.b[i]:.4f} ± {upper - lower:.4f}\")\n",
    "print()\n",
    "print(f\"Correlation: {r_bias[0, 1]:.4f}\")\n",
    "print()\n",
    "print(f\"R²: {R2_bias:.4f}\")"
   ]
  },
  {
   "cell_type": "code",
   "execution_count": 284,
   "metadata": {},
   "outputs": [
    {
     "data": {
      "image/png": "[encoded data removed]",
      "text/plain": [
       "<Figure size 800x1000 with 1 Axes>"
      ]
     },
     "metadata": {},
     "output_type": "display_data"
    }
   ],
   "source": [
    "import matplotlib.pyplot as plt\n",
    "import seaborn as sns\n",
    "\n",
    "plt.figure(figsize=(8, 10))\n",
    "sns.boxplot(x=\"Observer\", y=\"Flow\", data=data_std)\n",
    "plt.title(\"Difference in Flow between Observers\")\n",
    "plt.xlabel(\"Observer\")\n",
    "plt.ylabel(\"Flow\")\n",
    "plt.show()"
   ]
  },
  {
   "cell_type": "code",
   "execution_count": 285,
   "metadata": {},
   "outputs": [
    {
     "name": "stdout",
     "output_type": "stream",
     "text": [
      "-0.16026957952930065 0.20448187733048656\n"
     ]
    }
   ],
   "source": [
    "# In numbers, showing that Observer 1 records higher flow values\n",
    "temp = data_std[[\"Flow\", \"Observer\"]].copy()\n",
    "zero_mean = np.mean(temp[temp[\"Observer\"] == 0][\"Flow\"])\n",
    "one_mean = np.mean(temp[temp[\"Observer\"] == 1][\"Flow\"])\n",
    "print(zero_mean, one_mean)"
   ]
  },
  {
   "cell_type": "markdown",
   "metadata": {},
   "source": [
    "## Creating prediction sets"
   ]
  },
  {
   "cell_type": "code",
   "execution_count": 286,
   "metadata": {},
   "outputs": [],
   "source": [
    "data_shuffled = data_std.sample(frac=1, random_state=42)  # setting the seed for reproducibility\n",
    "\n",
    "train_indices = round(0.8 * len(data_shuffled))\n",
    "val_indices = round(0.25 * train_indices)\n",
    "test_indices = round(0.2 * len(data_shuffled))\n",
    "\n",
    "test_df = pd.DataFrame(data_shuffled[:test_indices])\n",
    "train_df = pd.DataFrame(data_shuffled[test_indices:])\n",
    "val_df = pd.DataFrame(train_df[:val_indices])\n",
    "train_df = pd.DataFrame(train_df[val_indices:])\n",
    "\n",
    "X_train = np.column_stack([np.ones(len(train_df)), train_df[\"Kinematic\"], train_df[\"Geometric\"], train_df[\"Inertial\"], train_df[\"Observer\"]])\n",
    "y_train = train_df[\"Flow\"]\n",
    "\n",
    "X_val = np.column_stack([np.ones(len(val_df)), val_df[\"Kinematic\"], val_df[\"Geometric\"], val_df[\"Inertial\"], val_df[\"Observer\"]])\n",
    "y_val = val_df[\"Flow\"]\n",
    "\n",
    "X_test = np.column_stack([np.ones(len(test_df)), test_df[\"Kinematic\"], test_df[\"Geometric\"], test_df[\"Inertial\"], test_df[\"Observer\"]])\n",
    "y_test = test_df[\"Flow\"]"
   ]
  },
  {
   "cell_type": "markdown",
   "metadata": {},
   "source": [
    "## Running the model and printing outputs"
   ]
  },
  {
   "cell_type": "code",
   "execution_count": 287,
   "metadata": {},
   "outputs": [
    {
     "name": "stdout",
     "output_type": "stream",
     "text": [
      "Number of features: 4\n",
      "Number of rows: 118\n",
      "\n",
      "Variance: 2.96e-03\n",
      "Standard deviation: 5.44e-02\n",
      "\n",
      "Significance of f-statistic: 3.93e-143\n",
      "Significance of t-statistic for ...\n",
      "... Kinematic: 1.75e-75\n",
      "... Geometric: 3.60e-157\n",
      "... Inertial:  2.06e-245\n",
      "\n",
      "Relevance (R²): 9.97e-01\n",
      "\n",
      "Training relevance ...\n",
      "... RSE:  5.37e-02\n",
      "... MSE:  2.84e-03\n",
      "... RMSE: 5.32e-02\n",
      "\n",
      "Validation relevance ...\n",
      "... RSE:  3.19e-02\n",
      "... MSE:  9.99e-04\n",
      "... RMSE: 3.16e-02\n",
      "\n",
      "Correlation pairs ...\n",
      "... Kinematic - Geometric: 0.8688\n",
      "... Kinematic - Inertial: 0.9720\n",
      "... Kinematic - Observer: 0.1783\n",
      "... Geometric - Inertial: 0.9196\n",
      "... Geometric - Observer: 0.2242\n",
      "... Inertial - Observer: 0.1774\n",
      "\n",
      "Confidence intervals for each coefficient ...\n",
      "... β0: -0.0175 ± 0.0023\n",
      "... β1: 0.2968 ± 0.0072\n",
      "... β2: 1.1006 ± 0.0044\n",
      "... β3: -0.3989 ± 0.0090\n",
      "... β4: 0.0191 ± 0.0034\n"
     ]
    },
    {
     "name": "stderr",
     "output_type": "stream",
     "text": [
      "/home/albot/coding/repos/stat_met/.venv/lib/python3.13/site-packages/numpy/lib/_function_base_impl.py:3045: RuntimeWarning: invalid value encountered in divide\n",
      "  c /= stddev[:, None]\n",
      "/home/albot/coding/repos/stat_met/.venv/lib/python3.13/site-packages/numpy/lib/_function_base_impl.py:3046: RuntimeWarning: invalid value encountered in divide\n",
      "  c /= stddev[None, :]\n"
     ]
    }
   ],
   "source": [
    "model = lr()\n",
    "model.fit(X_train, y_train)\n",
    "predictions = model.predict(X_val)\n",
    "\n",
    "print(f\"Number of features: {model.d}\")\n",
    "print(f\"Number of rows: {model.n}\") # from X_train\n",
    "print()\n",
    "print(f\"Variance: {model.variance(X_train, y_train):.2e}\")\n",
    "print(f\"Standard deviation: {model.standard_deviation(X_train, y_train):.2e}\")\n",
    "print()\n",
    "sig = model.significance(X_train, y_train) # returns dictionary with f_pvalue and ti_pvalues\n",
    "print(f\"Significance of f-statistic: {sig[\"f_pvalue\"]:.2e}\")\n",
    "print(f\"Significance of t-statistic for ...\\n... Kinematic: {sig[\"ti_pvalues\"][0]:.2e}\\n... Geometric: {sig[\"ti_pvalues\"][1]:.2e}\\n... Inertial:  {sig[\"ti_pvalues\"][2]:.2e}\")\n",
    "print()\n",
    "print(f\"Relevance (R²): {model.r_squared(X_train, y_train):.2e}\")\n",
    "print()\n",
    "t_rel = model.test_relevance(X_train, y_train) # returns dictionary with RSE, MSE and RMSE\n",
    "t_r2 = model.r_squared(X_train, y_train)\n",
    "v_rel = model.test_relevance(X_val, y_val)\n",
    "v_r2 = model.r_squared(X_val, y_val)\n",
    "t_rel = {key: value.item() for key, value in t_rel.items()}\n",
    "v_rel = {key: value.item() for key, value in v_rel.items()}\n",
    "print(f\"Training relevance ...\\n... RSE:  {t_rel[\"RSE\"]:.2e}\\n... MSE:  {t_rel[\"MSE\"]:.2e}\\n... RMSE: {t_rel[\"RMSE\"]:.2e}\")\n",
    "print()\n",
    "print(f\"Validation relevance ...\\n... RSE:  {v_rel[\"RSE\"]:.2e}\\n... MSE:  {v_rel[\"MSE\"]:.2e}\\n... RMSE: {v_rel[\"RMSE\"]:.2e}\")\n",
    "print()\n",
    "r = model.pearson(X_train) # returns a correlation matrix\n",
    "cols = [\"Intercept\", \"Kinematic\", \"Geometric\", \"Inertial\", \"Observer\"]\n",
    "print(f\"Correlation pairs ...\")\n",
    "for i in range(len(cols)):\n",
    "    if i == 0:\n",
    "        continue\n",
    "    else:\n",
    "        for j in range(i + 1, len(cols)):\n",
    "            print(f\"... {cols[i]} - {cols[j]}: {r[i, j]:.4f}\")\n",
    "print()\n",
    "ci = model.confidence_intervals(X_train, y_train) # returns the confidence intervals for all parameters\n",
    "print(\"Confidence intervals for each coefficient ...\")\n",
    "for i, (lower, upper) in enumerate(ci):\n",
    "    print(f\"... β{i}: {model.b[i]:.4f} ± {upper - lower:.4f}\")"
   ]
  },
  {
   "cell_type": "markdown",
   "metadata": {},
   "source": [
    "# To do"
   ]
  },
  {
   "cell_type": "code",
   "execution_count": 288,
   "metadata": {},
   "outputs": [],
   "source": [
    "# kolla signifikansen på båda observers för sista VG-frågan\n",
    "# extras"
   ]
  },
  {
   "cell_type": "markdown",
   "metadata": {},
   "source": [
    "# Test"
   ]
  }
 ],
 "metadata": {
  "kernelspec": {
   "display_name": ".venv",
   "language": "python",
   "name": "python3"
  },
  "language_info": {
   "codemirror_mode": {
    "name": "ipython",
    "version": 3
   },
   "file_extension": ".py",
   "mimetype": "text/x-python",
   "name": "python",
   "nbconvert_exporter": "python",
   "pygments_lexer": "ipython3",
   "version": "3.13.1"
  }
 },
 "nbformat": 4,
 "nbformat_minor": 2
}
