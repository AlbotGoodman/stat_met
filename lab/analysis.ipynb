{
 "cells": [
  {
   "cell_type": "markdown",
   "metadata": {},
   "source": [
    "# Analysis"
   ]
  },
  {
   "cell_type": "markdown",
   "metadata": {},
   "source": [
    "## Dependencies and data standardisation"
   ]
  },
  {
   "cell_type": "code",
   "execution_count": 9,
   "metadata": {},
   "outputs": [],
   "source": [
    "import numpy as np\n",
    "import pandas as pd\n",
    "from linear_regression import LinearRegression as lr\n",
    "\n",
    "data = pd.read_csv(\"../data/Small-diameter-flow.csv\", index_col=0)\n",
    "data_std = data.copy()\n",
    "for column in [\"Flow\", \"Kinematic\", \"Geometric\", \"Inertial\"]:\n",
    "    mean = np.mean(data[column])\n",
    "    sample_std_dev = np.std(data[column], ddof=1) # since this is not the population\n",
    "    data_std[column] = (data[column] - mean) / sample_std_dev"
   ]
  },
  {
   "cell_type": "markdown",
   "metadata": {},
   "source": [
    "## Creating prediction sets"
   ]
  },
  {
   "cell_type": "code",
   "execution_count": 10,
   "metadata": {},
   "outputs": [],
   "source": [
    "data_shuffled = data_std.sample(frac=1, random_state=42)  # setting the seed for reproducibility\n",
    "\n",
    "train_indices = round(0.8 * len(data_shuffled))\n",
    "val_indices = round(0.25 * train_indices)\n",
    "test_indices = round(0.2 * len(data_shuffled))\n",
    "\n",
    "test_df = pd.DataFrame(data_shuffled[:test_indices])\n",
    "train_df = pd.DataFrame(data_shuffled[test_indices:])\n",
    "val_df = pd.DataFrame(train_df[:val_indices])\n",
    "train_df = pd.DataFrame(train_df[val_indices:])\n",
    "\n",
    "X_train = np.column_stack([np.ones(len(train_df)), train_df[\"Kinematic\"], train_df[\"Geometric\"], train_df[\"Inertial\"], train_df[\"Observer\"]])\n",
    "y_train = train_df[\"Flow\"]\n",
    "\n",
    "X_val = np.column_stack([np.ones(len(val_df)), val_df[\"Kinematic\"], val_df[\"Geometric\"], val_df[\"Inertial\"], val_df[\"Observer\"]])\n",
    "y_val = val_df[\"Flow\"]\n",
    "\n",
    "X_test = np.column_stack([np.ones(len(test_df)), test_df[\"Kinematic\"], test_df[\"Geometric\"], test_df[\"Inertial\"], test_df[\"Observer\"]])\n",
    "y_test = test_df[\"Flow\"]"
   ]
  },
  {
   "cell_type": "markdown",
   "metadata": {},
   "source": [
    "## Running the model and printing outputs"
   ]
  },
  {
   "cell_type": "code",
   "execution_count": 11,
   "metadata": {},
   "outputs": [
    {
     "name": "stdout",
     "output_type": "stream",
     "text": [
      "Number of features: 4\n",
      "Number of rows: 118\n",
      "\n",
      "Variance: 2.96e-03\n",
      "Standard deviation: 5.44e-02\n",
      "\n",
      "Significance of f-statistic: 3.93e-143\n",
      "Significance of t-statistic for ...\n",
      "... Kinematic: 1.75e-75\n",
      "... Geometric: 3.60e-157\n",
      "... Inertial:  2.06e-245\n",
      "\n",
      "Relevance (R²): 9.97e-01\n",
      "\n",
      "Training relevance ...\n",
      "... RSE:  5.37e-02\n",
      "... MSE:  2.84e-03\n",
      "... RMSE: 5.32e-02\n",
      "\n",
      "Validation relevance ...\n",
      "... RSE:  3.19e-02\n",
      "... MSE:  9.99e-04\n",
      "... RMSE: 3.16e-02\n",
      "\n",
      "Correlation pairs ...\n",
      "... Kinematic - Geometric: 0.8688\n",
      "... Kinematic - Inertial: 0.9720\n",
      "... Kinematic - Observer: 0.1783\n",
      "... Geometric - Inertial: 0.9196\n",
      "... Geometric - Observer: 0.2242\n",
      "... Inertial - Observer: 0.1774\n",
      "\n",
      "Confidence intervals for each coefficient ...\n",
      "... β0: -0.0175 ± -0.0011 | Lower: -0.0164, Upper: -0.0187\n",
      "... β1: 0.2968 ± -0.0036 | Lower: 0.3003, Upper: 0.2932\n",
      "... β2: 1.1006 ± -0.0022 | Lower: 1.1028, Upper: 1.0984\n",
      "... β3: -0.3989 ± -0.0045 | Lower: -0.3944, Upper: -0.4034\n",
      "... β4: 0.0191 ± -0.0017 | Lower: 0.0208, Upper: 0.0174\n"
     ]
    },
    {
     "name": "stderr",
     "output_type": "stream",
     "text": [
      "/home/albot/coding/repos/stat_met/.venv/lib/python3.13/site-packages/numpy/lib/_function_base_impl.py:3045: RuntimeWarning: invalid value encountered in divide\n",
      "  c /= stddev[:, None]\n",
      "/home/albot/coding/repos/stat_met/.venv/lib/python3.13/site-packages/numpy/lib/_function_base_impl.py:3046: RuntimeWarning: invalid value encountered in divide\n",
      "  c /= stddev[None, :]\n"
     ]
    }
   ],
   "source": [
    "model = lr()\n",
    "model.fit(X_train, y_train)\n",
    "predictions = model.predict(X_val)\n",
    "\n",
    "print(f\"Number of features: {model.d}\")\n",
    "print(f\"Number of rows: {model.n}\") # from X_train\n",
    "print()\n",
    "print(f\"Variance: {model.variance(X_train, y_train):.2e}\")\n",
    "print(f\"Standard deviation: {model.standard_deviation(X_train, y_train):.2e}\")\n",
    "print()\n",
    "sig = model.significance(X_train, y_train) # returns dictionary with f_pvalue and ti_pvalues\n",
    "print(f\"Significance of f-statistic: {sig[\"f_pvalue\"]:.2e}\")\n",
    "print(f\"Significance of t-statistic for ...\\n... Kinematic: {sig[\"ti_pvalues\"][0]:.2e}\\n... Geometric: {sig[\"ti_pvalues\"][1]:.2e}\\n... Inertial:  {sig[\"ti_pvalues\"][2]:.2e}\")\n",
    "print()\n",
    "print(f\"Relevance (R²): {model.r_squared(X_train, y_train):.2e}\")\n",
    "print()\n",
    "t_rel = model.test_relevance(X_train, y_train) # returns dictionary with RSE, MSE and RMSE\n",
    "t_r2 = model.r_squared(X_train, y_train)\n",
    "v_rel = model.test_relevance(X_val, y_val)\n",
    "v_r2 = model.r_squared(X_val, y_val)\n",
    "t_rel = {key: value.item() for key, value in t_rel.items()}\n",
    "v_rel = {key: value.item() for key, value in v_rel.items()}\n",
    "print(f\"Training relevance ...\\n... RSE:  {t_rel[\"RSE\"]:.2e}\\n... MSE:  {t_rel[\"MSE\"]:.2e}\\n... RMSE: {t_rel[\"RMSE\"]:.2e}\")\n",
    "print()\n",
    "print(f\"Validation relevance ...\\n... RSE:  {v_rel[\"RSE\"]:.2e}\\n... MSE:  {v_rel[\"MSE\"]:.2e}\\n... RMSE: {v_rel[\"RMSE\"]:.2e}\")\n",
    "print()\n",
    "r = model.pearson(X_train) # returns a correlation matrix\n",
    "cols = [\"Intercept\", \"Kinematic\", \"Geometric\", \"Inertial\", \"Observer\"]\n",
    "print(f\"Correlation pairs ...\")\n",
    "for i in range(len(cols)):\n",
    "    if i == 0:\n",
    "        continue\n",
    "    else:\n",
    "        for j in range(i + 1, len(cols)):\n",
    "            print(f\"... {cols[i]} - {cols[j]}: {r[i, j]:.4f}\")\n",
    "print()\n",
    "ci = model.confidence_intervals(X_train, y_train) # returns the confidence intervals for all parameters\n",
    "print(\"Confidence intervals for each coefficient ...\")\n",
    "for i, (lower, upper) in enumerate(ci):\n",
    "    print(f\"... β{i}: {model.b[i]:.4f} ± {(upper - lower) / 2:.4f} | Lower: {lower:.4f}, Upper: {upper:.4f}\")"
   ]
  },
  {
   "cell_type": "markdown",
   "metadata": {},
   "source": [
    "# To do"
   ]
  },
  {
   "cell_type": "markdown",
   "metadata": {},
   "source": [
    "1. jag får fel på self._n när jag växlar mellan träningsdata och valideringsdata (t ex i test_relevance())\n",
    "\n",
    "2. dubbelkolla data leakage så att inte samma rader finns test, validering, test \n",
    "\n",
    "3. Normalisera datan? \n",
    "\n",
    "4. Analysera observer bias \n",
    "\n",
    "5. Lös RuntimeWarning\n",
    "\n",
    "6. Plotta"
   ]
  },
  {
   "cell_type": "markdown",
   "metadata": {},
   "source": [
    "# Test"
   ]
  }
 ],
 "metadata": {
  "kernelspec": {
   "display_name": ".venv",
   "language": "python",
   "name": "python3"
  },
  "language_info": {
   "codemirror_mode": {
    "name": "ipython",
    "version": 3
   },
   "file_extension": ".py",
   "mimetype": "text/x-python",
   "name": "python",
   "nbconvert_exporter": "python",
   "pygments_lexer": "ipython3",
   "version": "3.13.1"
  }
 },
 "nbformat": 4,
 "nbformat_minor": 2
}
