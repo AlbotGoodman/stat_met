{
 "cells": [
  {
   "cell_type": "markdown",
   "metadata": {},
   "source": [
    "I dag kommer vi gå igenom kapitel tre, dock står det mer i boken än vad vi tar upp. "
   ]
  },
  {
   "cell_type": "code",
   "execution_count": 2,
   "metadata": {},
   "outputs": [],
   "source": [
    "import numpy as np"
   ]
  },
  {
   "cell_type": "markdown",
   "metadata": {},
   "source": [
    "#### första rasten"
   ]
  },
  {
   "cell_type": "markdown",
   "metadata": {},
   "source": [
    "Om två variabler är oberoende så är kovariansen noll, dvs Cov(X,Y) = 0. Vi kan inte antaga det omvända. Cov=0 betyder inte nödvändigtvis att X och Y är oberoende, men de är åtminstone inte linjärt beroende. Kovarians är alltså den svagaste indikationen, därefter kommer en starkare egenskap - korrelation- (Pearson coefficient of correlation). De ligger alltid mellan -1 och 1.  \n",
    "\n",
    "Låt $X$ och $Y$ vara slumpvariabler med medel $\\mu_x$ respektive $\\mu_Y$ samt varianser $\\sigma_X^2$ och $\\sigma_Y^2$.  Korrelationen mellan $X$ och $Y$ ges då av:  \n",
    "\n",
    "[kolla repot för alla specialare här]  \n",
    "\n",
    "Om koefficienten är -1 eller 1 ($|rho| = 1$) då har vi visat att det finns en ekvation: Y = beta0 + beta1*X  \n",
    "\n",
    "FÖr att räkna ut vår varians så tar vi:"
   ]
  },
  {
   "cell_type": "code",
   "execution_count": null,
   "metadata": {},
   "outputs": [],
   "source": [
    "var = SSE/(n-v-1)   # sigma kvarderat\n",
    "S = np.sqrt(var)    # sigma eller residual standard error\n",
    "                    # alltså en uppskattning av standardfelet/stickprovsavvikelsen\n",
    "SSR = np.sum(b*X.T @ Y) - (np.square(np.sum(Y)) / n) # sum of squares regression\n",
    "Syy = np.sum(np.square(Y)) - (np.square(np.sum(Y)) / n) # sum of squares total\n",
    "Sxx = np.sum(np.square(X)) - (np.square(np.sum(X)) / n) # sum of squares X\n",
    "# Standardfelet, standard error (of the mean)\n",
    "SE = var / n"
   ]
  },
  {
   "cell_type": "markdown",
   "metadata": {},
   "source": [
    "Alla värden innanför värdet på S är innanför en standardavvikelse. Om du har sigma ett betyder ingenting alls, du måste ha ett intervall också. Vi använder standardfelet för att beräkna konferensintervall.  \n",
    "\n",
    "SSE är alltså en uppskattning medan SSR är det faktiska. Vi ska använda alla dessa värden för att se hur bra korrelationen matchar, hur mycket förklarar den av datan osv.  \n",
    "\n",
    "Nu vill vi veta hur bra vår uppskattning var av b0 och b1 och då använder vi standardfelet. "
   ]
  },
  {
   "cell_type": "code",
   "execution_count": null,
   "metadata": {},
   "outputs": [],
   "source": [
    "# square of standard error of β1 = var/Sxx\n",
    "se_b = var/Sxx\n",
    "\n",
    "ci = (b[1], 2*np.sqrt(se_b))\n",
    "print(f\"Confidence interval on predictor β1: {ci[0]:.4f} ± {ci[1]:.4f}\")"
   ]
  },
  {
   "cell_type": "markdown",
   "metadata": {},
   "source": [
    "Detta är väldigt ungefärligt ett 90 %-intervall (<2σ). Om vi kör regressionen många gånger på delmängder av datan (som skall ha samma medel, dvs vara balanserade) så väntar vi oss att 90 % av värdena hamnar mellan 0.053 och 0.042.  "
   ]
  },
  {
   "cell_type": "code",
   "execution_count": null,
   "metadata": {},
   "outputs": [],
   "source": [
    "se_b0 = var * (1/n + np.mean(X)**2/Sxx)"
   ]
  },
  {
   "cell_type": "code",
   "execution_count": null,
   "metadata": {},
   "outputs": [],
   "source": [
    "x_mean = np.mean(X[])\n",
    "se_intercept = var * (1/n + np.mean(X)\n",
    "\n",
    "se_intercept_copilot = var * (1/n + np.mean(X)**2/Sxx)      # b0"
   ]
  },
  {
   "cell_type": "markdown",
   "metadata": {},
   "source": [
    "Om vi spenderar $1000 på TV-reklam kommer vi sälja ca 50 enheter till. Vi kan också använda standardfelen för att göra en grov uppskattning huruvida denna regressionen är statistiskt relevant eller inte. Då använder vi hypotestestning. Formulera en hypotes, nollhypotes: t ex att det inte finns en relation mellan X och Y. Ha är vår alternativa hypotes som sägre att det finns en relation mellan X och Y.  \n",
    "\n",
    "[se R's anteckningar för latech]"
   ]
  },
  {
   "cell_type": "code",
   "execution_count": null,
   "metadata": {},
   "outputs": [],
   "source": [
    "t = b[1] / se_b"
   ]
  },
  {
   "cell_type": "markdown",
   "metadata": {},
   "source": [
    "Nu har vi fått ett \"P-värde\". Nu har vi sett att den är signifikant/relevant, den förklarar åtminstone en del av datan. Hur mycket? Hur bra är den?  \n",
    "\n",
    "$\\hat{\\rho} = r = \\frac{S_{xy}}{\\sqrt{S_{xx}}{S_{yy}}}$\n",
    "\n",
    "Hur många procent av datan täcks av vår regression. Får vi en etta så ligger alla punkterna på linjen. "
   ]
  }
 ],
 "metadata": {
  "kernelspec": {
   "display_name": ".venv",
   "language": "python",
   "name": "python3"
  },
  "language_info": {
   "codemirror_mode": {
    "name": "ipython",
    "version": 3
   },
   "file_extension": ".py",
   "mimetype": "text/x-python",
   "name": "python",
   "nbconvert_exporter": "python",
   "pygments_lexer": "ipython3",
   "version": "3.13.1"
  }
 },
 "nbformat": 4,
 "nbformat_minor": 2
}
