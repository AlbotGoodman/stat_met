{
 "cells": [
  {
   "cell_type": "markdown",
   "metadata": {},
   "source": [
    "# Repetition"
   ]
  },
  {
   "cell_type": "markdown",
   "metadata": {},
   "source": [
    "## Inför tentan  \n",
    "\n",
    "### DIskreta distributioner  \n",
    "\n",
    "#### Geometrisk\n",
    "\n",
    "X ~ Geom(p), har bara en parameter - sannolikheten att ett visst försök lyckas.  \n",
    "\n",
    "Om X håller reda på hur mångna försök, vardera med sannolikhet p, som sker innan första lyckandet följer X en geometrisk fördelning.  \n",
    "\n",
    "$ f(x) = (1-p)^{x-s}p $  \n",
    "$ F(x) = 1 - q^{\\lfloor x \\rfloor} $  \n",
    "$ E[x] = 1/p $  \n",
    "$ VarX = q/p² $  \n",
    "$ q = 1-p $  \n",
    "\n",
    "#### Binomial  \n",
    "\n",
    "X ~ Binom(n, p), har två parametrar  \n",
    "n, antalet försök  \n",
    "p, sannolikheten för varje försök att lyckas  \n",
    "\n",
    "Om X håller reda på hur många av de n försöken som lyckades, följer X en binomialfördelning.  \n",
    "\n",
    "$ f(x) = (n, x)p^x(1-p) $  \n",
    "$ F(x) = \\sum^{\\lfloor t \\rfloor}_{x=0} (n, x) p^x(1-p)^{} $  \n",
    "\n",
    "hann inte med  \n",
    "\n",
    "#### Negativ binomial  \n",
    "\n",
    "X ~Nbinom(P, r)  \n",
    "p, sannolikheten att varje försök lyckas  \n",
    "r, antalet lyckanden innan vi är klara  \n",
    "\n",
    "Om X håller reda på hur många försök som krävs för att uppnå r lyckanden, så följer X negativ binomialfördelning.  \n",
    "\n",
    "$ f(x) = (x-1, r-1)(1-p)^{X-r}p^r $  \n",
    "$ E[X] = r/p $  \n",
    "$ VarX = rq/p² $  \n",
    "\n",
    "#### Poisson  \n",
    "\n",
    "X ~ Poisson(k)  \n",
    "\n",
    "$ f(x) = \\frac{e^{-k}k^x}{x!} $  \n",
    "Diskreta händelser i tidsintervall. Dess väntevärde och varians är helt enkelt k. \n",
    "$ E[X] = k $  \n",
    "$ VarX = k $  \n",
    "\n",
    "### Kontinuerliga distributioner  \n",
    "\n",
    "#### Gamma\n",
    "\n",
    "X ~ $\\gamma$($\\alpha, \\beta$)  \n",
    "\n",
    "$ f(x) = \\frac{1}{\\beta^{\\alpha}\\integral^{\\infinity}_{0}Z^{\\alpha - 1}e^{-Z}dZ} x^{\\alpha -1}e^{-x/\\beta} $  \n",
    "$ E[X] $  \n",
    "\n",
    "hann inte med  \n",
    "\n",
    "#### Normal  \n",
    "X ~ N(µ, $\\sigma²)  \n",
    "\n",
    "$ f(x) = \\frac{1}{\\sqrt{2\\pi}\\sigma}e^{-1/2[(x-µ)/\\sigma]²} $  \n",
    "$ E[X] = µ $  \n",
    "$ VarX = \\sigma^2 $   \n",
    "\n"
   ]
  },
  {
   "cell_type": "markdown",
   "metadata": {},
   "source": [
    "## Inför nästa kurs  \n",
    "\n",
    "Intensiv kurs, kommer vara mycket kodande men en någorlunda lugn start. "
   ]
  }
 ],
 "metadata": {
  "language_info": {
   "name": "python"
  }
 },
 "nbformat": 4,
 "nbformat_minor": 2
}
