{
 "cells": [
  {
   "cell_type": "markdown",
   "metadata": {},
   "source": [
    "# Konfidensintervall (igen)\n",
    "\n",
    "Testar för normalitet. Det är alltså sannolikhet.  \n",
    "\n",
    "Om vi standardiserat och normaliserat datan så att variansen är 1 och alla värden är mellan -1 och 1 då får vi en standardnormal distribution, N(0, 1). Då har vi allt för att skriva upp vår konfidensintervall:\n",
    "\n",
    "$\\overline{X} \\pm Z_{\\alpha / 2} (\\sigma / \\sqrt{n})$  \n",
    "\n",
    "I modulen scipy hittar vi $Z_{\\alpha / 2}$ genom ppf-funktionen och sen räknar vi ut resten. \n",
    "\n",
    "När medlet ($µ$) och variansen ($\\sigma^2$) är okända använder vi i stället: \n",
    "\n",
    "$\\overline{X} \\pm t_{\\alpha / 2} (S / \\sqrt{n})$  \n",
    "\n",
    "Standardavvikelsen ($S$) kan fluktuera eftersom det är en avvikelse. Note that $S/\\sqrt{n}$ is not an unbiased estimate of $\\sigma / \\sqrt{n}$.   \n",
    "\n",
    "Det vi använder mest för linjär regression är att vi vill ha konfidensintervall på våra parametrar, då använder vi denna formel i stället: \n",
    "\n",
    "$\\hat{\\beta} \\pm t_{\\alpha / 2}(S\\sqrt{C_{ii}})$  \n",
    "\n",
    "T ex $b_1 = 21.25 \\pm 1.96$  \n",
    "\n",
    "Det innebär att (om vi valt 0.95 som konfidensintervall) så ligger 95 % av alla värden innanför 21.25-1.96 och 21.25+1.96.  "
   ]
  },
  {
   "cell_type": "markdown",
   "metadata": {},
   "source": [
    "# Gemensamma fördelningar\n",
    "När vi ställer upp en ekvation för linjär regression $(y = B0 + B1X1 + … + BdXd)$  \n",
    "\n",
    "y:s fördelningar kan vi dela upp den i d st slumpvariabler. Tillsammans så har de en gemensam fördelning som ska vara lika med y. För att det ska stämma måste det verkligen vara så att väntevärdena för de individuella $X_i$ så måste de bli y, dvs:\n",
    "\n",
    "$\\sum{E[X_i]} = E[y]$  \n",
    "\n",
    "Då vill vi gärna veta att det alltid går att göra en sådan uppdelning. Vi måste alltså bevisa att väntevärdet är linjärt. Vi vill alltså visa att E är en linjär transformation:  \n",
    "\n",
    "$E[µX+vY] = µE[X] + vE[Y]$  \n",
    "\n",
    "Givet en gemensam distribution ($f_XY(x,y) = P[X=x ^ Y=y]$  \n",
    "\n",
    "För att räkna ut väntevärdet:  \n",
    "$E[X] = \\sum_{x}\\sum_{y}xf(x,y)$  \n",
    "$E[Y] = \\sum_{x}\\sum_{y}yf(x,y)$  "
   ]
  },
  {
   "cell_type": "markdown",
   "metadata": {},
   "source": [
    "## Linjaritetsbevis för väntevärdesoperatorn\n",
    "$E[µX+vY] = \\sum_{x}\\sum_{y}(µx+vy)f(x,y)$  \n",
    "\n",
    "$=\\sum_{x}\\sum_{y}µxf(x,y) + \\sum_{x}\\sum_{y}vyf(x,y)$  \n",
    "\n",
    "$=E[µX] + E[vY]$  \n",
    "\n",
    "$=µE[X]+vE[Y]$  "
   ]
  },
  {
   "cell_type": "markdown",
   "metadata": {},
   "source": [
    "# Standardisering och normalisering\n",
    "Inom statistik är det oftare enklare att visa att något inte är normalfördelat, därav då ett omvänt hypotestest. Gör ett antagande om en viss fördelning, hur sannolikt är det att den följer? Vi vill klura ut samband inom ML och låta datorn lösa det. Vårt viktiga jobb och stora utmaning inom ML är att hitta distributionen.  \n",
    "\n",
    "Binomial: När vi ökar sannolikhet så förskjuts distributionen till höger.  \n",
    "Geometrisk: Lägre sannolikhet desto plattare blir den.  \n",
    "Uniform: samma  \n",
    "Bernoulli: singla slant, 1 eller 0  \n",
    "\n",
    "### För tentan ska du kunna skilja på distributioner"
   ]
  },
  {
   "cell_type": "markdown",
   "metadata": {},
   "source": [
    "# Övningsexempel för distributioner\n",
    "## Exempel 1\n",
    "X = utfallet av kast med en D6:a. En slumpvariabel som håller reda på utfallet. Låt oss ta ett stickprov av denna med storlek 6.  \n",
    "\n",
    "[2,2,3,4,4,5]  \n",
    "\n",
    "Ett histogram över detta går ju upp och ner. Vad har då X för fördelning? Den är uniform, det är samma sannolikhet för alla värden. Det kan vi räkna ut genom att analysera populationen.  \n",
    "\n",
    "$f(x) = \\frac{n(a)}{n(S)}$  \n",
    "\n",
    "Alltså är $P[X=x] = \\frac{1}{6}$  \n",
    "\n",
    "MEN för stickprovet:  \n",
    "\n",
    "Vi har alltså relativ frekvens noll på P[X=1].  \n",
    "\n",
    "$f(x) = \\frac{f}{n}$  "
   ]
  },
  {
   "cell_type": "markdown",
   "metadata": {},
   "source": [
    "## Exempel 2\n",
    "X = antalet tärningskast till vi slår en 6:a:  \n",
    "p = 1/6 för den underliggande distributionen.  \n",
    "\n",
    "[ [2,4,4,3,5,6] [1,6] [2,5,4,6] ]  \n",
    "\n",
    "Vi håller alltså på tills vi får en sexa. Det är en geometrisk distribution och den har bara en parameter, alltså p = 1/6  \n",
    "\n",
    "$f(X) = (1-P)^{X-1}P$  "
   ]
  },
  {
   "cell_type": "markdown",
   "metadata": {},
   "source": [
    "## Exempel 3\n",
    "X = antalet radarsignaler som identifieras under 30 minuter där 10 signaler mottages.  \n",
    "P = ½ för att korrekt identifiera signalen.  \n",
    "\n",
    "Q: Hitta sannolikheten att som mest 7 signaler identifieras korrekt.  \n",
    "\n",
    "30 minuter spelar ingen roll, det är bara extra information. Vi har alltså tio försök och vill veta sannolikheten att ta emot sju och vi håller reda på antalet kontinuerligt.  \n",
    "\n",
    "Binomial distribution.  \n",
    "\n",
    "X $\\approx$ Binom (n=10, p=0.5)  \n",
    "P[X $\\leq$ 7] ---> cdf(7, n=10, p=0.5)  \n",
    "\n",
    "I kod skriver vi: \n",
    "scipy.stats.binom.cdf(7, n=10, p=0.5)\n",
    "= 0.945 = 94.5 % sannolikhet\n",
    "Om det skulle vara så att vi skulle hitta exakt sju signaler då behöver vi inte använda kumulativa funktionen utan sannolikhetsfunktionen i stället. Då hade vi haft 11.7 %. "
   ]
  },
  {
   "cell_type": "markdown",
   "metadata": {},
   "source": [
    "## Exempel 4\n",
    "Vid en process som tillverkar raketbränsle används ett material som i 90 % av fallen håller sin form. Vad är sannolikheten att exakt 20 serier produceras för att orsaka det tredje felet?  \n",
    "\n",
    "X = antalet försök tills att 3 misslyckanden skett.  \n",
    "\n",
    "X $\\approx$ Neg Binom (P=0.1, r=3)\n",
    "\n",
    "I kod: scipy.stats.nbinom.pmf(20, p=0.1, n=3"
   ]
  },
  {
   "cell_type": "markdown",
   "metadata": {},
   "source": [
    "## Exempel 5\n",
    "Skippade denna, var krångel med formeln. "
   ]
  }
 ],
 "metadata": {
  "language_info": {
   "name": "python"
  }
 },
 "nbformat": 4,
 "nbformat_minor": 2
}
