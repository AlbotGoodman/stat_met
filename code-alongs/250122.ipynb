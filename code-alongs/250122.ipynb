{
 "cells": [
  {
   "cell_type": "markdown",
   "metadata": {},
   "source": [
    "[kopiera första sliden]"
   ]
  },
  {
   "cell_type": "markdown",
   "metadata": {},
   "source": [
    "# Training and validation  \n",
    "\n",
    "För att kunna förutsäga värden måste vi göra training and validation. Vi bryr oss statistiskt sett inte om dåtiden. Vi måste alltså först dela upp vår testdata - om vår testdata är oändlig är det bara att inhämta ny data - i två set; data = train | validation. Det är väldigt viktigt att dela upp datan slumpmässigt.   \n",
    "\n",
    "Nu ska vi titta på inferenser mellan två populationer (comparison of means between samples). Det krävs ganska avancerade tekniker för att jämföra dem, särskilt vid olika distributioner. Då behöver vi ett nytt typ av väntvärde:  \n",
    "\n",
    "E/subscript/MSE: Expectation for the mean of SSE, n.b. MSE = 1/n SSE  \n",
    "\n",
    "EMSE(Y-Ŷ): Expectation for difference of mean between Y and our approximation.  \n",
    "\n",
    "EMSE(Y-Ŷ)²: Var(Ŷ) + Bias(Ŷ)² + Var(/epsilon/)  \n",
    "            reducible error     irreducible error  \n",
    "I detta fallet är Y respons i valideringsdatan och Ŷ vår träningsdata. Variansen av den vill vi ha så liten som möjligt men då blir vår bias sämre och sämre. Vår uppgift är att balansera dessa så att det ska bli rätt. Om vi skulle overfit och matcha testdatan exakt så kommer bias att närma sig noll och det kommer bli dåligt vid ett verkligt test i fält senare.  \n",
    "\n",
    "När vi mäter hur bra det går behöver vi ytterligare ett värde som är korrigerad för att vi jämför två populationer:  \n",
    "\n",
    "RSE: /sqrt/(1 / n-2) * SSE  , unbiased estimator for unknown data  \n",
    "\n",
    "RSE is run on new data (not the validation data) with the model we trained. So we need three sets: train, validation, test. The first two are used during training (e², MSE) medan test används för kvalitetskontroll (RSE).  \n",
    "\n",
    "## Feature engineering  \n",
    "\n",
    "Y = β0 + β1x1 + ... + βpXp  \n",
    "\n",
    "i) Test singificance of predictor, remove those that fail the test.  \n",
    "ii) Add new feature (possiblu from other data sources)  \n",
    "iii) Break the rules! Add non-linearity.  \n",
    "\n",
    "(iii) I stället för att vi skriver Y, tänk att vi skriver en funktion.  \n",
    "f(x1, x2) = β0 + β1x1 + β2x2 + β3x1x2  \n",
    "f(x1, x2, x1*x2) = β0 + β1/xi/1 + β2/xi/2 + β3/xi/3  \n",
    "\n",
    "Ovan har vi linjäriserat ett icke-linjärt förhållande. Vi kan alltså höja dimensionen för att hitta ett linjärt förhållande. Ett sätt är att slänga på ännu fler features men ju fler dimensioner vi har desto sämre blir vår statistik, det blir en black box.  \n",
    "\n",
    "^f(x) => number (regression)  \n",
    "^f(x) => label (classification)  \n",
    "\n",
    "När vi gör en uppskattning som ovan får vi tal som output. Alla varianter av ovan är alltså kvantitativa och kallas regression. Vi behöver inte bara ha tal, vi kan också använda etiketter, dvs kvalitativ, och kallar det kategorisk data.  \n",
    "\n"
   ]
  },
  {
   "cell_type": "markdown",
   "metadata": {},
   "source": [
    "# Code-along  \n",
    "\n",
    "Fortsätter på 250120.ipynb"
   ]
  },
  {
   "cell_type": "markdown",
   "metadata": {},
   "source": [
    "# Förklaring av labbdatan  \n",
    "\n",
    "Nästan alla värden är negativa. Är de mindre än konstanten e så är de negativa. Dessa vill vi kanske normalisera för att få ett bättre resultat - även om det går att köra regression direkt på datan som den är. Hur? Räkna std för flow, dela sedan varje rad med std och roten ur antalet rader. Då kommer alla värden centreras kring noll.  \n",
    "\n",
    "Om du gör så måste du göra samma sak på alla kolumner. BEHÖVS INTE men finns stöd i boken. Det går att köra utan pga att det inte finns några outliers att prata om.  \n",
    "\n",
    "Det finns en kategorisk variabel för vilken person som observerade. Signifikanstest på denna variabel kan göras för att se om det finns något observatörsbias.  \n",
    "\n",
    "Kolumnnamnen har att göra med vilken vätska det är. Inertial har med amssa att göra, geometri har med rörets tjocklek och längd att göra, kinematik är hur långt ifrån vattenreservoaren det är. Alla värden är linjariserade.  \n",
    "\n",
    "Finns ett linjärt förhållande mellan kolumn 1-3 med kolumn 0? Vi ska alltså förutsäga flödet. "
   ]
  }
 ],
 "metadata": {
  "kernelspec": {
   "display_name": ".venv",
   "language": "python",
   "name": "python3"
  },
  "language_info": {
   "name": "python",
   "version": "3.13.2"
  }
 },
 "nbformat": 4,
 "nbformat_minor": 2
}
