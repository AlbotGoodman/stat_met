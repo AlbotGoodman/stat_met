{
 "cells": [
  {
   "cell_type": "markdown",
   "metadata": {},
   "source": [
    "# Labben"
   ]
  },
  {
   "cell_type": "markdown",
   "metadata": {},
   "source": [
    "Deadline: 7 februari.  \n",
    "\n",
    "En hatt på en symbol betyder uppskattning. SSE ska vara så liten som möjligt i minsta kvadratmetod. Confidence and significance (teststatistikor) har vi inte pratat om ännu.  \n",
    "\n",
    "Allt ska göras som en python klass som importeras till jupyter-filen. "
   ]
  }
 ],
 "metadata": {
  "language_info": {
   "name": "python"
  }
 },
 "nbformat": 4,
 "nbformat_minor": 2
}
