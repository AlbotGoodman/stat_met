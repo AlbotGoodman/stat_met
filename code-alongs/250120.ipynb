{
 "cells": [
  {
   "cell_type": "markdown",
   "metadata": {},
   "source": [
    "# Labben"
   ]
  },
  {
   "cell_type": "markdown",
   "metadata": {},
   "source": [
    "Deadline: 7 februari.  \n",
    "\n",
    "En hatt på en symbol betyder uppskattning. SSE ska vara så liten som möjligt i minsta kvadratmetod. Confidence and significance (teststatistikor) har vi inte pratat om ännu.  \n",
    "\n",
    "Allt ska göras som en python klass som importeras till jupyter-filen. "
   ]
  },
  {
   "cell_type": "markdown",
   "metadata": {},
   "source": [
    "# Föreläsning  \n",
    "\n",
    "## Konfidansintervall  \n",
    "\n",
    "A 100(a-α) % confidence intervall for a parameter θ is a random interval [L1, L2] such that P[L1 <= θ <= L2] = 1-α regardless of the value of θ.  \n",
    "\n",
    "Tänk att vi har ett lasso och ska fånga en pinne. Lassots bredd är mellan L1 och L2, då kommer vi att fånga pinnen (1-α) av gångerna.  \n",
    "\n",
    "I vanliga fall känner vi inte till medlet men om vi hade haft det så hade detta varit enkelt att räkna ut.  \n",
    "\n",
    "Let the following be a random variable: Z = X - µ / (σ / √n). If µ is known then the variable follows a standard normal distribution. Vi kan byta distribution och normalisera distributionen om vi känner till det sanna medlet, inte stickprovets medel. Om vår konfidansnivå är 95 % så ska vi täcka 95 % av kurvan mellan ändpunkterna.  \n",
    "\n",
    "A 100(1-α) % interval on µ (mean?) when σ² (variance) is known. Det betyder att vi kan uppskatta vilken distribution det är.  \n",
    "\n",
    "Let X1, X2, ..., Xn be a random sample from a normal distribution. Då kan vi skriva upp vad konfidensintervallet blir: X ± Z(subscript: α/2) σ √n  \n",
    "\n",
    "T ex:  \n",
    "\n",
    "X = 8  \n",
    "8 ± 2  \n",
    "P[6 <= X <= 10]\n",
    "\n",
    "Alla normaldistributioner är symmetriska, annars är de inte normala.  \n",
    "\n",
    "### Central limit theorem  \n",
    "\n",
    "Let X1, X2, ... , Xn be a random sample of size n from a distribution with mean µ and variance σ². Then, for large n, X is approx normal with mean µ and variance σ². Furthermore X ± Z(subscript: α/2) σ √n  is approx. Standard normal.  \n",
    "\n",
    "Om vi har et stickprov n stort, så är X ungefär normal. Medlet behöver inte vara noll (är den noll så heter det standard normal). Oavsett distribution med tillräckligt många stickprov så kommer den vara ungefär normal och om vi centrerar distributionen genom att dela med σ √n så normaliserar vi den. Oavsett hur komplex distributionen är kan vi antaga och använda våra konfidansintervall som vanligt. Vad är då tillräckligt mycket data? Med stor varians måste vi ha fler testfall men i praktiken räcker det med 20 st testfall. Tänk tärningar, redan efter 20 ggr ser vi en normaldistribution i kurvan (en Bell curve).  \n",
    "\n",
    "Det här är centralt för all applicerad matematik. Tänk att du ser en skog i stället för de individuella träden, en jämn ton i stället för myrornas krig osv.  \n",
    "\n",
    "## Distributioner  \n",
    "\n",
    "Vi börjar med att titta på den geometriska distributionen.  \n",
    "\n",
    "### Geometric distribution  \n",
    "\n",
    "För att den ska vara geometrisk krävs att:  \n",
    "    i. The experiment (hur vi får fram utfallet till våra slumpvariabler) consists of a series of trials. The outcome (utfallet) of each trial is either \"success\" or \"failure\", (s) or (f). Such a trial is known as a Bernoulli trial.  \n",
    "    ii. The trials are identical and independent. (t ex oberoende slantsinglingar)  \n",
    "    iii. The random variable X denotes the number of trials needed to obtain the first success. (Om X beter sig som så att antalet försök för att få det första lyckade försöket - singla klave - asdasdas)  \n",
    "\n",
    "S (utfallsrummet) = {s, fs, ffs, fffs ...}\n",
    "\n",
    "Det är uppräkneligt oändlig mängd vilket för att vara en sannolikhetsdistribution. Det är en diskret distribution när det antingen är sant eller falskt, 1 eller 0. Fuzzy logic är inte så hett längre även om alla ANN använder det.  \n",
    "\n",
    "P[X=1] = probability of success on first trial = p  \n",
    "P[X=2] = probability of failure on first trial and success on the second = (1-p)p   (multiplikationsprincipen??)  \n",
    "P[X=3] = probability of failure on first two trials and success on the third = (1-p)²p    \n",
    "\n",
    "f(X) = (1-p)^x-1 p  (probability function aka täthetsfunktionen?)\n",
    "\n",
    "Summan av alla ska bli ett.  \n",
    "\n",
    "F(x) = 1-q(floor function:x, dvs heltalet avrundat nedåt), q = 1-p     (cumulative distribution function, cdf)  \n",
    "\n",
    "#### Moments for geometric distributions in the population  \n",
    "\n",
    "    E[X] = 1 / p        (väntvärdet, medlet)\n",
    "\n",
    "Om vi vet att det är en geometrisk distribution kan vi enkelt räkna ut väntvärdet.  \n",
    "\n",
    "    VarX = q / p² , q = 1 - p  \n",
    "\n",
    "T ex, om vi singlar slant och variansen är två, då kommer vi mest troligt se klave efter fyra kast.  \n",
    "\n",
    "    σ = √VarX  \n",
    "\n",
    "Den geometriska distributionen är alltså rent visuellt exponentiellt avtagande.  \n",
    "\n",
    "### Binomial distribution  \n",
    "\n",
    "För att distributionen ska vara binomial krävs att:  \n",
    "    i. The experiment consists of a fixed number of Bernoulli trials, with outcomes \"success\" or \"failure\".  \n",
    "    (ii. The trials are identical and independent. (t ex oberoende slantsinglingar)) detta tillhör på sätt och vis också  \n",
    "    ii. The random variable X denotes the number of successes obtained in the n trials.  \n",
    "\n",
    "    Vi gör alltså ett fixerat antal försök och ser hur många gånger vi lyckas.  \n",
    "\n",
    "Example for n = 3:  \n",
    "S = {fff, sff, ssf, sss, sfs, fss, fsf}  \n",
    "\n",
    "fff: (1-p)³  \n",
    "sff: p(1-p)²  \n",
    "...  \n",
    "\n",
    "P[X = x] = C(X) p^x (1-p)^n-x         (C är antalet lyckade försök)\n",
    "C(X) måste alltså vara binomial (n x) hur många set kan vi välja ut lyckade försök.  \n",
    "f(x) = (n x) p^x (1-p)^n-x  \n",
    "\n",
    "x håller reda på hur många lycakde försök av n försök.  \n",
    "\n",
    "F(x) = t∑x=0 (n x) p^x (1-p)^n-x  \n",
    "\n",
    "#### Moments for binomial distribution in the population\n",
    "\n",
    "    E[X] = µ (medlet) = np  \n",
    "    VarX = npq , q = (1-p)  \n",
    "    σ = √VarX  \n",
    "\n",
    "### Probability vs likelihood\n",
    "\n",
    "Sannolikhet och rimlighet. \n",
    "\n",
    "Skillnaden mellan probability and likelihood är \n",
    "\n",
    "Sannolikheten att värdet är två kommer vara väldigt lite. Probability is the value of the probability function (täthetsfunktionen) at that point.  \n",
    "\n",
    "Hur rimligt är det att värdet två tillhör en normaldistribution? Det blir en invers sannolikhet.  \n",
    "\"How likely is the value to belong to a given distribution?\". Svaret vi får säger i någon mening hur långt ifrån medlet vi är.  \n",
    "=> \"more than 1σ (one standard deviation)\" = 68 % likelihood  \n",
    "\n",
    "Vid probability har vi en given kurva och stoppar in värden (för att hitta medel), i likelihood försöker hitta kurvan (hitta distributionen) utifrån våra värden.  \n",
    "\n",
    "Vid linjärnregression gör vi antagandet att distributionen är normal.  "
   ]
  },
  {
   "cell_type": "markdown",
   "metadata": {},
   "source": [
    "# Code-along  \n",
    "\n",
    "## Multipel linjär regression  \n",
    "\n",
    "Y = X/beta/ + E    X är modellspecifikationsmatris, E är vår SSE, vektorn med stokastiska fel med avseende på väntevärdet   Y  "
   ]
  },
  {
   "cell_type": "code",
   "execution_count": 2,
   "metadata": {},
   "outputs": [
    {
     "data": {
      "text/html": [
       "<div>\n",
       "<style scoped>\n",
       "    .dataframe tbody tr th:only-of-type {\n",
       "        vertical-align: middle;\n",
       "    }\n",
       "\n",
       "    .dataframe tbody tr th {\n",
       "        vertical-align: top;\n",
       "    }\n",
       "\n",
       "    .dataframe thead th {\n",
       "        text-align: right;\n",
       "    }\n",
       "</style>\n",
       "<table border=\"1\" class=\"dataframe\">\n",
       "  <thead>\n",
       "    <tr style=\"text-align: right;\">\n",
       "      <th></th>\n",
       "      <th>TV</th>\n",
       "      <th>radio</th>\n",
       "      <th>newspaper</th>\n",
       "      <th>sales</th>\n",
       "    </tr>\n",
       "  </thead>\n",
       "  <tbody>\n",
       "    <tr>\n",
       "      <th>1</th>\n",
       "      <td>230.1</td>\n",
       "      <td>37.8</td>\n",
       "      <td>69.2</td>\n",
       "      <td>22.1</td>\n",
       "    </tr>\n",
       "    <tr>\n",
       "      <th>2</th>\n",
       "      <td>44.5</td>\n",
       "      <td>39.3</td>\n",
       "      <td>45.1</td>\n",
       "      <td>10.4</td>\n",
       "    </tr>\n",
       "    <tr>\n",
       "      <th>3</th>\n",
       "      <td>17.2</td>\n",
       "      <td>45.9</td>\n",
       "      <td>69.3</td>\n",
       "      <td>9.3</td>\n",
       "    </tr>\n",
       "    <tr>\n",
       "      <th>4</th>\n",
       "      <td>151.5</td>\n",
       "      <td>41.3</td>\n",
       "      <td>58.5</td>\n",
       "      <td>18.5</td>\n",
       "    </tr>\n",
       "    <tr>\n",
       "      <th>5</th>\n",
       "      <td>180.8</td>\n",
       "      <td>10.8</td>\n",
       "      <td>58.4</td>\n",
       "      <td>12.9</td>\n",
       "    </tr>\n",
       "  </tbody>\n",
       "</table>\n",
       "</div>"
      ],
      "text/plain": [
       "      TV  radio  newspaper  sales\n",
       "1  230.1   37.8       69.2   22.1\n",
       "2   44.5   39.3       45.1   10.4\n",
       "3   17.2   45.9       69.3    9.3\n",
       "4  151.5   41.3       58.5   18.5\n",
       "5  180.8   10.8       58.4   12.9"
      ]
     },
     "execution_count": 2,
     "metadata": {},
     "output_type": "execute_result"
    }
   ],
   "source": [
    "import numpy as np\n",
    "import pandas as pd\n",
    "import matplotlib.pyplot as plt\n",
    "import seaborn as sns\n",
    "import scipy.stats as stats\n",
    "\n",
    "data_path = \"../data/Advertising.csv\"\n",
    "\n",
    "adv = pd.read_csv(data_path, index_col=0)\n",
    "adv.head()"
   ]
  },
  {
   "cell_type": "code",
   "execution_count": 3,
   "metadata": {},
   "outputs": [
    {
     "data": {
      "text/plain": [
       "array([[  1. , 230.1,  37.8,  69.2],\n",
       "       [  1. ,  44.5,  39.3,  45.1],\n",
       "       [  1. ,  17.2,  45.9,  69.3],\n",
       "       [  1. , 151.5,  41.3,  58.5]])"
      ]
     },
     "execution_count": 3,
     "metadata": {},
     "output_type": "execute_result"
    }
   ],
   "source": [
    "Y = adv[\"sales\"]\n",
    "X = np.column_stack([np.ones(Y.shape[0]), adv[\"TV\"], adv[\"radio\"], adv[\"newspaper\"]])\n",
    "X[:4]"
   ]
  },
  {
   "cell_type": "code",
   "execution_count": 4,
   "metadata": {},
   "outputs": [],
   "source": [
    "b = np.linalg.pinv(X.T @ X) @ X.T @ Y       # b är vår uppskattade koefficientvektor\n",
    "k = len(b)-1\n",
    "n = Y.shape[0]                              # basically len(Y)\n",
    "SSE = np.sum(np.square(Y - (X @ b)))\n",
    "var = SSE/(n-k-1)\n",
    "S = np.sqrt(var)\n",
    "Syy = (n * np.sum(np.square(Y)) - np.square(np.sum(Y)))/n\n",
    "SSR = Syy - SSE\n",
    "# SSE = Syy - SSR\n",
    "SSR2 = (n*np.sum(b * (X.T @ Y)) - (np.square(np.sum(Y))))/n\n",
    "# SSR2 = np.sum(b * (X.T @ Y)) - (np.square(np.sum(Y))/n)"
   ]
  },
  {
   "cell_type": "code",
   "execution_count": 5,
   "metadata": {},
   "outputs": [
    {
     "data": {
      "text/plain": [
       "np.float64(4860.323487097813)"
      ]
     },
     "metadata": {},
     "output_type": "display_data"
    },
    {
     "data": {
      "text/plain": [
       "np.float64(4860.323487097845)"
      ]
     },
     "metadata": {},
     "output_type": "display_data"
    }
   ],
   "source": [
    "display(SSR)\n",
    "display(SSR2)"
   ]
  },
  {
   "cell_type": "markdown",
   "metadata": {},
   "source": [
    "Som vi ser här så leder fler kalkyleringar till ackumulerade fel och de kommer skilja sig beroende på CPU, OS etc. "
   ]
  },
  {
   "cell_type": "code",
   "execution_count": 6,
   "metadata": {},
   "outputs": [
    {
     "data": {
      "image/png": "[encoded data removed]",
      "text/plain": [
       "<Figure size 640x480 with 1 Axes>"
      ]
     },
     "metadata": {},
     "output_type": "display_data"
    }
   ],
   "source": [
    "plt.scatter(Y, X @ b)\n",
    "plt.show()"
   ]
  },
  {
   "cell_type": "code",
   "execution_count": 7,
   "metadata": {},
   "outputs": [
    {
     "data": {
      "text/plain": [
       "array([ 2.93888937e+00,  4.57646455e-02,  1.88530017e-01, -1.03749304e-03])"
      ]
     },
     "execution_count": 7,
     "metadata": {},
     "output_type": "execute_result"
    }
   ],
   "source": [
    "b"
   ]
  },
  {
   "cell_type": "code",
   "execution_count": 8,
   "metadata": {},
   "outputs": [
    {
     "data": {
      "text/plain": [
       "np.float64(0.8972106381789521)"
      ]
     },
     "execution_count": 8,
     "metadata": {},
     "output_type": "execute_result"
    }
   ],
   "source": [
    "Rsq = SSR / Syy     # förklaringsgraden / konfidensgrad\n",
    "Rsq"
   ]
  },
  {
   "cell_type": "markdown",
   "metadata": {},
   "source": [
    "Då kan vi välja 90 % som vårt konfidensintervall. "
   ]
  },
  {
   "cell_type": "code",
   "execution_count": 9,
   "metadata": {},
   "outputs": [
    {
     "data": {
      "text/plain": [
       "np.float64(6.373276981801313e-117)"
      ]
     },
     "execution_count": 9,
     "metadata": {},
     "output_type": "execute_result"
    }
   ],
   "source": [
    "# significance statistic\n",
    "sig_stat = (SSR / k) / S        # det här är vår statistika\n",
    "\n",
    "\n",
    "# räkna ut vårt P-värde\n",
    "p_sig = stats.f.sf(sig_stat, k, n-k-1)      # sf är överlevnadsfunktionen\n",
    "p_sig"
   ]
  },
  {
   "cell_type": "markdown",
   "metadata": {},
   "source": [
    "Värdet vi får fram är sannolikhet för att nollhypotesen (H0) är sann. Om P är högt, nära ett, så ska alla beta vara noll. Vad vi ser är ett extremt lågt värde och i förlängningen låg sannolikhet att H0 stämmer. Vi avfärdar därför nollhypotesen; regressionen är signifikant. "
   ]
  },
  {
   "cell_type": "code",
   "execution_count": 10,
   "metadata": {},
   "outputs": [
    {
     "data": {
      "text/plain": [
       "np.float64(0.9166073083091348)"
      ]
     },
     "execution_count": 10,
     "metadata": {},
     "output_type": "execute_result"
    }
   ],
   "source": [
    "c = np.linalg.pinv(X.T @ X) * var\n",
    "\n",
    "# H0: b3 is irrelevant, /beta/3 = 0\n",
    "b3_stat = b[3] / (S * np.sqrt(c[3, 3]))\n",
    "p_b3 = 2 * min(stats.t.cdf(b3_stat, n-k-1), stats.t.sf(b3_stat, n-k-1))\n",
    "\n",
    "p_b3"
   ]
  },
  {
   "cell_type": "markdown",
   "metadata": {},
   "source": [
    "Vad detta innebär är att nollhypotesen verkar stämma, b3 är alltså irrelevant. Det vi gör då är att vi tar bort den kolumnen och kör allt igen (ta bort newspaper). "
   ]
  },
  {
   "cell_type": "code",
   "execution_count": 32,
   "metadata": {},
   "outputs": [],
   "source": [
    "X = np.column_stack([np.ones(Y.shape[0]), adv[\"TV\"], adv[\"radio\"]])"
   ]
  },
  {
   "cell_type": "code",
   "execution_count": 33,
   "metadata": {},
   "outputs": [],
   "source": [
    "b = np.linalg.pinv(X.T @ X) @ X.T @ Y\n",
    "k = len(b)-1\n",
    "n = Y.shape[0]\n",
    "SSE = np.sum(np.square(Y - (X @ b)))\n",
    "var = SSE/(n-k-1)\n",
    "S = np.sqrt(var)\n",
    "Syy = (n * np.sum(np.square(Y)) - np.square(np.sum(Y)))/n\n",
    "SSR = Syy - SSE\n",
    "Rsq = SSR / Syy\n",
    "sig_stat = (SSR / k) / S\n",
    "p_sig = stats.f.sf(sig_stat, k, n-k-1)\n",
    "c = np.linalg.pinv(X.T @ X) * var"
   ]
  },
  {
   "cell_type": "code",
   "execution_count": 34,
   "metadata": {},
   "outputs": [
    {
     "data": {
      "text/plain": [
       "np.float64(4.422008910018528e-31)"
      ]
     },
     "execution_count": 13,
     "metadata": {},
     "output_type": "execute_result"
    }
   ],
   "source": [
    "b2_stat = b[2] / (S * np.sqrt(c[2, 2]))\n",
    "p_b2 = 2 * min(stats.t.cdf(b2_stat, n-k-1), stats.t.sf(b2_stat, n-k-1))\n",
    "p_b2"
   ]
  },
  {
   "cell_type": "code",
   "execution_count": 35,
   "metadata": {},
   "outputs": [
    {
     "data": {
      "text/plain": [
       "np.float64(4.403865715508174e-48)"
      ]
     },
     "execution_count": 14,
     "metadata": {},
     "output_type": "execute_result"
    }
   ],
   "source": [
    "b1_stat = b[1] / (S * np.sqrt(c[1, 1]))\n",
    "p_b1 = 2 * min(stats.t.cdf(b1_stat, n-k-1), stats.t.sf(b1_stat, n-k-1))\n",
    "p_b1"
   ]
  },
  {
   "cell_type": "markdown",
   "metadata": {},
   "source": [
    "p_b1 och p_b2 blev båda väldigt små tal och därav är deras H0 debunked och de är faktiskt signifikanta. Det var med andra ord bara b3 som var irrelevant, dvs newspaper. "
   ]
  },
  {
   "cell_type": "markdown",
   "metadata": {},
   "source": [
    "# 250122\n",
    "\n",
    "Om två parametrar har samma fel, t ex att de har samma värde och orsakar samma fel, så slutar den linjära regressionen att fungera. Det händer ofta i tidsserier att det blir feltermskorrelationer. Om den sanna variansen varierar med tiden så har vi också problem. Tänk vindkraftverk, variationen är beroende på vindstyrkan. Om vi försöker förutsäga produktioner på en sådan park så finns en stark korrelation mellan felstyrkan och vindstyrkan.  Vi kan ju jämföra Syy mellan olika körningar men det kan skilja sig så därför är RSE viktig och bör vara ungefär samma.  \n",
    "\n"
   ]
  },
  {
   "cell_type": "code",
   "execution_count": 36,
   "metadata": {},
   "outputs": [
    {
     "data": {
      "text/plain": [
       "array([[1.00000e+00, 2.30100e+02, 3.78000e+01, 8.69778e+03],\n",
       "       [1.00000e+00, 4.45000e+01, 3.93000e+01, 1.74885e+03],\n",
       "       [1.00000e+00, 1.72000e+01, 4.59000e+01, 7.89480e+02],\n",
       "       [1.00000e+00, 1.51500e+02, 4.13000e+01, 6.25695e+03]])"
      ]
     },
     "execution_count": 15,
     "metadata": {},
     "output_type": "execute_result"
    }
   ],
   "source": [
    "Y = adv[\"sales\"]\n",
    "X = np.column_stack([np.ones(Y.shape[0]), adv[\"TV\"], adv[\"radio\"], adv[\"TV\"]*adv[\"radio\"]])\n",
    "X[:4]"
   ]
  },
  {
   "cell_type": "code",
   "execution_count": 37,
   "metadata": {},
   "outputs": [
    {
     "name": "stdout",
     "output_type": "stream",
     "text": [
      "Rsq: 0.9677905498482523\n",
      "p_b3: 9.407305644110063e-55\n"
     ]
    }
   ],
   "source": [
    "b = np.linalg.pinv(X.T @ X) @ X.T @ Y\n",
    "k = len(b)-1\n",
    "n = Y.shape[0]\n",
    "SSE = np.sum(np.square(Y - (X @ b)))\n",
    "var = SSE/(n-k-1)\n",
    "S = np.sqrt(var)\n",
    "Syy = (n * np.sum(np.square(Y)) - np.square(np.sum(Y)))/n\n",
    "SSR = Syy - SSE\n",
    "Rsq = SSR / Syy\n",
    "sig_stat = (SSR / k) / var\n",
    "p_sig = stats.f.sf(sig_stat, k, n-k-1)\n",
    "c = np.linalg.pinv(X.T @ X) * var\n",
    "\n",
    "b3_stat = b[3] / (S * np.sqrt(c[3, 3]))\n",
    "p_b3 = 2 * min(stats.t.cdf(b3_stat, n-k-1), stats.t.sf(b3_stat, n-k-1))\n",
    "\n",
    "print(f\"Rsq: {Rsq}\\np_b3: {p_b3}\")"
   ]
  },
  {
   "cell_type": "markdown",
   "metadata": {},
   "source": [
    "Dags att dela upp datan"
   ]
  },
  {
   "cell_type": "code",
   "execution_count": 38,
   "metadata": {},
   "outputs": [
    {
     "data": {
      "text/plain": [
       "array([[1.00000e+00, 2.30100e+02, 3.78000e+01, 8.69778e+03],\n",
       "       [1.00000e+00, 4.45000e+01, 3.93000e+01, 1.74885e+03],\n",
       "       [1.00000e+00, 1.72000e+01, 4.59000e+01, 7.89480e+02],\n",
       "       [1.00000e+00, 1.51500e+02, 4.13000e+01, 6.25695e+03],\n",
       "       [1.00000e+00, 1.80800e+02, 1.08000e+01, 1.95264e+03],\n",
       "       [1.00000e+00, 8.70000e+00, 4.89000e+01, 4.25430e+02],\n",
       "       [1.00000e+00, 5.75000e+01, 3.28000e+01, 1.88600e+03],\n",
       "       [1.00000e+00, 1.20200e+02, 1.96000e+01, 2.35592e+03],\n",
       "       [1.00000e+00, 8.60000e+00, 2.10000e+00, 1.80600e+01],\n",
       "       [1.00000e+00, 1.99800e+02, 2.60000e+00, 5.19480e+02]])"
      ]
     },
     "execution_count": 17,
     "metadata": {},
     "output_type": "execute_result"
    }
   ],
   "source": [
    "test_df = pd.DataFrame(adv[:10])\n",
    "train_df = pd.DataFrame(adv[10:160])\n",
    "X_test = np.column_stack([np.ones(10), test_df[\"TV\"], test_df[\"radio\"], test_df[\"TV\"] * test_df[\"radio\"]])\n",
    "Y_test = test_df[\"sales\"]\n",
    "X_train = np.column_stack([np.ones(150), train_df[\"TV\"], train_df[\"radio\"], train_df[\"TV\"] * train_df[\"radio\"]])\n",
    "Y_train = train_df[\"sales\"]\n",
    "\n",
    "val_df = pd.DataFrame(adv[160:])\n",
    "X_val = np.column_stack([np.ones(40), val_df[\"TV\"], val_df[\"radio\"], val_df[\"TV\"] * val_df[\"radio\"]])\n",
    "Y_val = val_df[\"sales\"]\n",
    "\n",
    "Y = adv[\"sales\"]\n",
    "X = np.column_stack([np.ones(Y.shape[0]), adv[\"TV\"], adv[\"radio\"], adv[\"TV\"]*adv[\"radio\"]])\n",
    "X_test"
   ]
  },
  {
   "cell_type": "code",
   "execution_count": 44,
   "metadata": {},
   "outputs": [
    {
     "name": "stdout",
     "output_type": "stream",
     "text": [
      "p_sig: 7.291164287177438e-157\n",
      "Rsq: 0.9977033993820215\n",
      "p_b3: 1.4038828177042578e-162\n"
     ]
    }
   ],
   "source": [
    "b = np.linalg.pinv(X_train.T @ X_train) @ X_train.T @ Y_train\n",
    "k = len(b)-1\n",
    "n = Y_train.shape[0]\n",
    "SSE = np.sum(np.square(Y_val - (X_val @ b)))\n",
    "var = SSE/(n-k-1)\n",
    "S = np.sqrt(var)\n",
    "Syy = (n * np.sum(np.square(Y_val)) - np.square(np.sum(Y_val)))/n\n",
    "SSR = Syy - SSE\n",
    "Rsq = SSR / Syy\n",
    "sig_stat = (SSR / k) / S\n",
    "p_sig = stats.f.sf(sig_stat, k, n-k-1)\n",
    "c = np.linalg.pinv(X_train.T @ X_train) * var\n",
    "\n",
    "b3_stat = b[3] / (S * np.sqrt(c[3, 3]))\n",
    "p_b3 = 2 * min(stats.t.cdf(b3_stat, n-k-1), stats.t.sf(b3_stat, n-k-1))\n",
    "\n",
    "print(f\"p_sig: {p_sig}\\nRsq: {Rsq}\\np_b3: {p_b3}\")"
   ]
  },
  {
   "cell_type": "code",
   "execution_count": 41,
   "metadata": {},
   "outputs": [
    {
     "data": {
      "text/plain": [
       "<matplotlib.collections.PathCollection at 0x7f11ea3251d0>"
      ]
     },
     "execution_count": 19,
     "metadata": {},
     "output_type": "execute_result"
    },
    {
     "data": {
      "image/png": "[encoded data removed]",
      "text/plain": [
       "<Figure size 640x480 with 1 Axes>"
      ]
     },
     "metadata": {},
     "output_type": "display_data"
    }
   ],
   "source": [
    "plt.scatter(Y_train, X_train @ b)"
   ]
  },
  {
   "cell_type": "code",
   "execution_count": 43,
   "metadata": {},
   "outputs": [
    {
     "data": {
      "text/plain": [
       "<matplotlib.collections.PathCollection at 0x7f11ea3a8b90>"
      ]
     },
     "execution_count": 20,
     "metadata": {},
     "output_type": "execute_result"
    },
    {
     "data": {
      "image/png": "[encoded data removed]",
      "text/plain": [
       "<Figure size 640x480 with 1 Axes>"
      ]
     },
     "metadata": {},
     "output_type": "display_data"
    }
   ],
   "source": [
    "plt.scatter(Y_val, X_val @ b)"
   ]
  },
  {
   "cell_type": "code",
   "execution_count": 47,
   "metadata": {},
   "outputs": [
    {
     "data": {
      "text/plain": [
       "np.float64(0.3224165896013176)"
      ]
     },
     "execution_count": 21,
     "metadata": {},
     "output_type": "execute_result"
    }
   ],
   "source": [
    "RSE = np.sqrt((1/(n-2))*SSE)\n",
    "RSE"
   ]
  },
  {
   "cell_type": "markdown",
   "metadata": {},
   "source": [
    "Alla enheter är tusentals i vår data (multiplicera därför ovan värde med tusen). Detta värdet vi får är storleken för responsen när vi gör förutsägelser på okänd data. Dvs är alltså 322 ett intervall. "
   ]
  },
  {
   "cell_type": "code",
   "execution_count": 53,
   "metadata": {},
   "outputs": [
    {
     "data": {
      "text/plain": [
       "(np.float64(0.3224165896013176), np.float64(0.27241384575203104))"
      ]
     },
     "execution_count": 22,
     "metadata": {},
     "output_type": "execute_result"
    }
   ],
   "source": [
    "SSE_test = np.sum(np.square(Y_test - (X_test @ b)))\n",
    "RSE_test = np.sqrt((1/(n-2))*SSE_test)\n",
    "RSE, RSE_test"
   ]
  },
  {
   "cell_type": "markdown",
   "metadata": {},
   "source": [
    "Vi förväntar oss att det vänstra värdet ska vara större än det till höger. Vår statistik stämmer alltså då alla värden hamnade inom intervallet. "
   ]
  }
 ],
 "metadata": {
  "kernelspec": {
   "display_name": ".venv",
   "language": "python",
   "name": "python3"
  },
  "language_info": {
   "codemirror_mode": {
    "name": "ipython",
    "version": 3
   },
   "file_extension": ".py",
   "mimetype": "text/x-python",
   "name": "python",
   "nbconvert_exporter": "python",
   "pygments_lexer": "ipython3",
   "version": "3.13.2"
  }
 },
 "nbformat": 4,
 "nbformat_minor": 2
}
