{
 "cells": [
  {
   "cell_type": "markdown",
   "metadata": {},
   "source": [
    "# Distributioner"
   ]
  },
  {
   "cell_type": "markdown",
   "metadata": {},
   "source": [
    "## Discrete probability densities  \n",
    "\n",
    "$f(x) = P[X=x]  $\n",
    "\n",
    "Necessary and sufficient conditions for a discrete density:  \n",
    "\n",
    "Probability function (SV täthetsfunktionen)  \n",
    "\n",
    "1. $f(x) >= 0  $\n",
    "2. $\\sum_x f(x) = 1  $\n",
    "\n",
    "Cumulative distribution function  \n",
    "\n",
    "$F(x) = P[X <= x]$"
   ]
  },
  {
   "cell_type": "markdown",
   "metadata": {},
   "source": [
    "Expected value (väntevärde):\n",
    "\n",
    "$E[X] = \\sum_x xf(x)$\n",
    "\n",
    "Ex tärning:  \n",
    "\n",
    "$1* 1/6 + 2* 1/6 + ... + 6* 1/6 = 3.5  $\n",
    "\n",
    "Variance:  \n",
    "$VarX = \\sigma^2- = E[(X-µ)^2]  $  \n",
    "$\\sigma^2 = VarX = E[X^2] - (E[X])^2  $\n",
    "\n",
    "Standard deviation:  \n",
    "$\\sigma = \\sqrt{VarX} = \\sqrt{\\sigma^2}$"
   ]
  },
  {
   "cell_type": "markdown",
   "metadata": {},
   "source": [
    "## Geometric distribution  \n",
    "\n",
    "X = the number of trials until first success  \n",
    "\n",
    "Antalet försök vi behöver göra är X innan vi kommer fram till önskat \"värde\" eller vad det kan vara. Utfallsrummet ser ut såhär:  \n",
    "\n",
    "$S = {s, fs, ffs, fffs, ...}$       \n",
    "en uppräknelig mängd, definitivt diskret  \n",
    "\n",
    "Täthetsfunktionen (probability function) för geo dis ser ut såhär:  \n",
    "\n",
    "$f(x) = (1-p)^{x-1}p , => q^{x-1}p$            \n",
    "p är sannolikheten att lyckas  \n",
    "\n",
    "Kumulativ distribtuion (cdf):  \n",
    "\n",
    "$F(x) = 1-q^{\\lfloor{x}\\rfloor} , q = 1-p  $\n",
    "\n",
    "### Moment  \n",
    "\n",
    "$E[X] = \\frac{1}{p}  $   \n",
    "$VarX = \\frac{q}{p^2}  $\n",
    "\n",
    "### Hur ser den ut?  \n",
    "\n",
    "I en graf ser det ut som en skidbacke som planar ut ju högre x-axeln vi kommer  \n",
    "Den är också centrerad kring noll"
   ]
  },
  {
   "cell_type": "markdown",
   "metadata": {},
   "source": [
    "## Binomal distribution  \n",
    "\n",
    "A fixed number of trials  \n",
    "\n",
    "X = how many successes over the n trials  \n",
    "\n",
    "Probability function:  \n",
    "    $f(x) = (^n_x)p^x(1-p)^{n-x}$  \n",
    "\n",
    "Cumulative deviation function:  \n",
    "     $F(t) = \\lfloor t \\rfloor\\sum_{x=0} (n x)p^x(1-p)^{n-x}$  \n",
    "\n",
    "### Moment  \n",
    "\n",
    "$E[X] = µ = np$     \n",
    "$VarX = \\sigma^2 = npq$  \n",
    "\n",
    "### Hur ser den ut?  \n",
    "Jämfört med normaldistributionen så är denna mycket bredare men om {number of trials} går mot oändligheten så blir den normaldistr  "
   ]
  },
  {
   "cell_type": "markdown",
   "metadata": {},
   "source": [
    " "
   ]
  },
  {
   "cell_type": "markdown",
   "metadata": {},
   "source": [
    "Normaldistr ger naturligt en linjär regression.  \n",
    "\n",
    "Beroende på vilken distribution vi har under ytan så har vi olika regressionsmetoder (?)  "
   ]
  },
  {
   "cell_type": "markdown",
   "metadata": {},
   "source": []
  },
  {
   "cell_type": "markdown",
   "metadata": {},
   "source": [
    "## Negative binomial distribution  \n",
    "\n",
    "X = number of trials until r successes  \n",
    "\n",
    "Nu vill vi alltså hålla på med våra Bernouli-xxxx tills dess att vi fått r antal lyckade försök.  \n",
    "\n",
    "$f(x) = (^{x-1}_{r-1})(1-p)^{x-r}p^r$  \n",
    "\n",
    "I detta fallet är $X = r, r+1, r+2, ...$   \n",
    "\n",
    "### Moment  \n",
    "\n",
    "Väntvärdet:  \n",
    "$E[X] = r/p$  \n",
    "\n",
    "Variansen:  \n",
    "$Var(X) = rq/p^2$  \n",
    "\n",
    "### Hur ser den ut?  \n",
    "\n",
    "Ser ut som binomial distr men är förskjuten till vänster/höger  "
   ]
  },
  {
   "cell_type": "markdown",
   "metadata": {},
   "source": [
    "## Hypergeometric distribution  \n",
    "\n",
    "$f(x) = ( (r x) * (N-r n-x) ) / (N n)$  \n",
    "\n",
    "N: number of objects  \n",
    "n: sample size  \n",
    "r: number of objects with a particular trait (måste vi kunna sätta en sannolikhet på)  \n",
    "\n",
    "Har vi N objekt i n storlek så betecknar r hur många föremål  \n",
    "\n",
    "Sannolikhetsfunktionen blir då den f(x) som står ovan.  \n",
    "\n",
    "Väntevärden blir mer komplexa att räkna ut.  \n",
    "\n",
    "### Moment  \n",
    "\n",
    "$E[X] = n(r/n)$  \n",
    "$VarX = n(\\frac{r}{N})(\\frac{N-r}{N})(\\frac{N-n}{N-1})$  \n",
    "\n",
    "### Hur ser den ut?  \n",
    "\n",
    "Som den neg binom distr men har andra parametrar  "
   ]
  },
  {
   "cell_type": "markdown",
   "metadata": {},
   "source": [
    "## Poisson distribution  \n",
    "\n",
    "Såhär ser täthetsfunktionen ut:  \n",
    "\n",
    "$f(x) = \\frac{e^{-k}k^x}{x!}$     \n",
    "\n",
    "X håller koll på antalet av en viss händelse som händer under en specifik tidsintervall  \n",
    "\n",
    "Typiskt exempel är radioaktivt sönderfall. Det finns en slumpmässig chans att något sker och vi tittar under en viss tidsperiod.  \n",
    "\n",
    "$k = \\lambda s$  \n",
    "$\\lambda$ = average occurences per time unit\n",
    "\n",
    "$E[x] = k$        Väntevärde  \n",
    "$VarX = k$        Varians   \n",
    "\n",
    "Den regressionsmetod som används för denna är komplex.  \n",
    "\n",
    "### Hur ser den ut?  \n",
    "\n",
    "Ser ut som de andra förskjutna: antingen höga med brantare backar eller små kullar med lång \"svans\" (svag sluttning)  "
   ]
  },
  {
   "cell_type": "markdown",
   "metadata": {},
   "source": []
  },
  {
   "cell_type": "markdown",
   "metadata": {},
   "source": [
    "Alla distributioner vi har gått igenom än så länge är diskreta.  \n",
    "\n",
    "Den enda kontinuerliga distributionen vi har gått igenom är normaldistributionen.  "
   ]
  },
  {
   "cell_type": "markdown",
   "metadata": {},
   "source": []
  },
  {
   "cell_type": "markdown",
   "metadata": {},
   "source": [
    "## Normal distribution  (continuous)  \n",
    "\n",
    "Kontinuerliga sannolikhetsfördelningar fungerar annorlunda. För en kontinuerlig variabel gäller:  \n",
    "\n",
    "A random variable X is continuous if it can assume any real value in some intervall and the probability that it assumes any specific value is zero.  \n",
    "\n",
    "Eftersom det finns oändligt många möjligheter så är sannolikheten att ett visst tal kommer så ska en viss punkt bli noll. Det här är ett problem.  \n",
    "\n",
    "Vi kan inte längre säga:  \n",
    "$f(x) = P[X=x]$ eftersom det är noll överallt  \n",
    "\n",
    "1. $f(x) >= 0$  \n",
    "2. $\\int_{\\infty}^{\\infty} f(x)dx = 1$  \n",
    "3. $P[a<=X<=b] = \\int f(x)dx$  \n",
    "\n",
    "Överkurs!  \n",
    "\n",
    "Här är vår sannolikhetsfunktion:  \n",
    "$f(x) = F'(x)$        derivatan alltså  \n",
    "\n",
    "Hur ser den då ut?  \n",
    "\n",
    "$f(x) = \\frac{1}{\\sqrt2\\pi} * e^{-\\frac{1}{2}(\\frac{x-µ}{\\sigma})^2}$  \n",
    "\n",
    "$µ, \\sigma$ => mean, standard deviation  \n",
    "\n",
    "Det som vi vill veta med normaldistributionen är standardiseringsteoremet. Om vi kan räkna ut medlet och standardavvikelse så är den ungefär normal (centrerad kring noll och har standardavvikelse sigma):  \n",
    "\n",
    "(X-µ) / \\sigma \\approx   [HANN INTE MED SISTA]  \n",
    "\n",
    "### Normal probability rule (68-95-99)  \n",
    "\n",
    "$P[-\\sigma < X-µ < \\sigma] = 0.68$  \n",
    "$P[-2\\sigma < X-µ < 2\\sigma] = 0.95$  \n",
    "$P[-3\\sigma < X-µ < 3\\sigma] = 0.997$  \n",
    "\n",
    "### Hur ser den ut?  \n",
    "\n",
    "En stor kulle centrerad kring noll som planar ut till höger och vänster. Det innebär alltså att toppen på kullen (mellan -1 och 1) är \\sigma, dvs 68 %. Det intervallet täcker så pass mycket av normalfördelningen.  "
   ]
  },
  {
   "cell_type": "markdown",
   "metadata": {},
   "source": [
    "# Repetition av konfidensintervall  \n",
    "\n",
    "A $100(1-\\alpha)$ % confidence interval for a parameter $\\theta$ is a random interval [$L_1$, $L_2$] (från $L_1$ till $L_2$) such that:  \n",
    "\n",
    "$P[L_1 <= \\theta <= L_2] = 1-\\alpha$  \n",
    "\n",
    "$\\overline{x} \\pm Z_{\\alpha/2}(\\sigma / \\sqrt n) $  \n",
    "\n",
    "$\\frac{\\overline{x} / µ}{\\sigma / \\sqrt n} \\approx N(0, \\sigma)$  \n",
    "\n",
    "Tar stickprovsmedlet och drar ifrån ... delat med sannolikheten och roten ur stickprovets storlek. Då hamnar värdena mellan -1 och 1 eller 0 och 1.  \n",
    "\n",
    "$\\hat\\beta_i \\pm t_{\\alpha / z}S\\sqrt C_{ii}$            konfidensintervall på enskilda parametrar??"
   ]
  }
 ],
 "metadata": {
  "kernelspec": {
   "display_name": ".venv",
   "language": "python",
   "name": "python3"
  },
  "language_info": {
   "name": "python",
   "version": "3.13.2"
  }
 },
 "nbformat": 4,
 "nbformat_minor": 2
}
