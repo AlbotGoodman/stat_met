{
 "cells": [
  {
   "cell_type": "markdown",
   "metadata": {},
   "source": [
    "Den här simulerar script"
   ]
  },
  {
   "cell_type": "code",
   "execution_count": 1,
   "metadata": {},
   "outputs": [],
   "source": [
    "class Complex:\n",
    "\n",
    "    def _init_(self, real, imag):\n",
    "        self.real = real\n",
    "        self.imag = imag\n",
    "    \n",
    "    def _repr_(self):\n",
    "        return f\"{repr(self.real)} + {repr(self.imag)}\"\n",
    "\n",
    "    def __add__(self, other):\n",
    "        return Complex(self.real+other.real, self.imag+other.imag)\n",
    "    \n",
    "    def __fit__(X, y):\n",
    "        b = np.linalg.pinv()"
   ]
  },
  {
   "cell_type": "markdown",
   "metadata": {},
   "source": [
    "Det här simulerar notebook"
   ]
  },
  {
   "cell_type": "code",
   "execution_count": 2,
   "metadata": {},
   "outputs": [
    {
     "ename": "TypeError",
     "evalue": "Complex() takes no arguments",
     "output_type": "error",
     "traceback": [
      "\u001b[0;31m---------------------------------------------------------------------------\u001b[0m",
      "\u001b[0;31mTypeError\u001b[0m                                 Traceback (most recent call last)",
      "Cell \u001b[0;32mIn[2], line 3\u001b[0m\n\u001b[1;32m      1\u001b[0m \u001b[38;5;66;03m# from repetition_classes import Complex\u001b[39;00m\n\u001b[0;32m----> 3\u001b[0m a \u001b[38;5;241m=\u001b[39m \u001b[43mComplex\u001b[49m\u001b[43m(\u001b[49m\u001b[38;5;241;43m5\u001b[39;49m\u001b[43m,\u001b[49m\u001b[43m \u001b[49m\u001b[38;5;241;43m2\u001b[39;49m\u001b[43m)\u001b[49m\n\u001b[1;32m      4\u001b[0m b \u001b[38;5;241m=\u001b[39m Complex(\u001b[38;5;241m2\u001b[39m, \u001b[38;5;241m4\u001b[39m)\n\u001b[1;32m      6\u001b[0m \u001b[38;5;66;03m# m = LinearRegression(...)\u001b[39;00m\n\u001b[1;32m      7\u001b[0m \u001b[38;5;66;03m# b = m.fit(X, y)\u001b[39;00m\n",
      "\u001b[0;31mTypeError\u001b[0m: Complex() takes no arguments"
     ]
    }
   ],
   "source": [
    "# from repetition_classes import Complex\n",
    "\n",
    "a = Complex(5, 2)\n",
    "b = Complex(2, 4)\n",
    "\n",
    "# m = LinearRegression(...)\n",
    "# b = m.fit(X, y)"
   ]
  }
 ],
 "metadata": {
  "kernelspec": {
   "display_name": ".venv",
   "language": "python",
   "name": "python3"
  },
  "language_info": {
   "codemirror_mode": {
    "name": "ipython",
    "version": 3
   },
   "file_extension": ".py",
   "mimetype": "text/x-python",
   "name": "python",
   "nbconvert_exporter": "python",
   "pygments_lexer": "ipython3",
   "version": "3.13.2"
  }
 },
 "nbformat": 4,
 "nbformat_minor": 2
}
