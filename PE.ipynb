{
 "cells": [
  {
   "cell_type": "markdown",
   "metadata": {},
   "source": [
    "# Practice exam"
   ]
  },
  {
   "cell_type": "markdown",
   "metadata": {},
   "source": [
    "Note: incorrect answers, calculations or similar will be deducted one point. "
   ]
  },
  {
   "cell_type": "markdown",
   "metadata": {},
   "source": [
    "## 1  \n",
    "\n",
    "### a)  \n",
    "\n",
    "Utav alla histogram ser A mest ut som en normalfördelning på grund av S-formen i grafen. Nu kan det bli svårt att avgöra på grund av binning och att det inte alltid är mycket som skiljer normal från binomial. Med det i åtanke skulle även flera av dessa histogram kunna vara normalfördelade (i fallande ordning): A, B, C. Ingen av dem ser ut att vara standard normal på grund vilket vi kan se på värdena i x-axeln, möjligen B.  \n",
    "\n",
    "### b)  \n",
    "\n",
    "Histogram D liknar en geometrisk fördelning då den ser ut att vara motsatt från en geometrisk täthetsfunktion. Geometriska fördelningar är exponentiella och relaterade till gammafördelning.  "
   ]
  },
  {
   "cell_type": "markdown",
   "metadata": {},
   "source": [
    "## 2  \n",
    "\n",
    "### a)  \n",
    "\n",
    "X har då en geometrisk fördelning. Geometriska fördelningar har utfallsrum som består av antingen success eller failure och räknar antalet failures till en success (Bernoulli trial). Ett utfallsrum skulle kunna se ut såhär:  \n",
    "\n",
    "{s}  \n",
    "{fs}  \n",
    "{ffs}  \n",
    "{fffs}  \n",
    "\n",
    "### b)  \n",
    "\n",
    "P[X >= 2] = 0.51  "
   ]
  },
  {
   "cell_type": "markdown",
   "metadata": {},
   "source": [
    "## 3  \n",
    "\n",
    "### a)  \n",
    "\n",
    "12-sidig tärning  \n",
    "Stickprovet: [12,6,2,12,7,10]  \n",
    "P[A] = f / n  \n",
    "P[X = 12] = 2 / 6 = 1 / 3  \n",
    "\n",
    "Vår stokastiska variabel X bestäms av ett kast med en tolvsidig tärning. Eftersom att vi ska utgå från stickprovet använder vi här relativ frekvens. Därav är sannolikheten 33 % för att vår stokastiska variabel X blir 12.  \n",
    "\n",
    "### b)  \n",
    "\n",
    "12-sidig tärning  \n",
    "P[A] = n(A) / n(S)  \n",
    "P[X = 12] = 1 / 12 \n",
    "\n",
    "Eftersom X bestäms av ett kast från en tärning med ett begränsat antal sidor så är populationen känd. Vi kan därför också använda oss av klassisk sannolikhet för att beräkna P[X = 12] om vi bortser från stickprovet denna gång. Därav är sannolikheten XX % för att X ska vara 12.  "
   ]
  },
  {
   "cell_type": "markdown",
   "metadata": {},
   "source": [
    "## 4  \n",
    "\n"
   ]
  },
  {
   "cell_type": "markdown",
   "metadata": {},
   "source": [
    "## 5  \n",
    "\n",
    "### a)  \n",
    "\n",
    "alpha = 100(1-confidence_level) %  \n",
    "confidence_level = 100(1-alpha) %  \n",
    "\n",
    "Om då R² (förklaringsgraden) visar att vår modell kan förklara 68 % av variansen i vår data är en konfidensnivå på 68 % (1 sigma) lämpligt för denna regression.  \n",
    "\n",
    "### b)  \n",
    "\n",
    "Då vår bias är 12.5 skulle ett Y-värde på 22 vara drygt dubbelt så stort. Vår standardavvikelse är 4.5 och därför ligger Y = 22 utanför förväntningarna.  "
   ]
  },
  {
   "cell_type": "markdown",
   "metadata": {},
   "source": [
    "## 6  \n",
    "\n",
    "### a)  \n",
    "\n",
    "Eftersom signifikanstester testar sannolikheten för nollhypotesen så visar ett \"högt värde\" på att nollhypotesen stämmer medan ett \"lågt värde\" visar på att nollhypotesen inte stämmer. Om nollhypotesen motbevisas innebär det att en sådan parameter har stor betydelse för vår linjära modell för att kunna förutsäga vår responsvariabel.  \n",
    "\n",
    "I detta fallet ser vi att interaktionseffekten för tredje parametern visar på ett betydligt högre värde än de lägsta. Den motsäger alltså inte nollhypotesen som då har hög sannolikhet i detta fall. Det vill säga att parameter beta-3 är irrelevant för vår linjära modell. Detsamma kan även sägas för beta-1.  \n",
    "\n",
    "### b)  \n",
    "\n",
    "Det är inte lämpligt att ha med parametern beta-3 eftersom den inte längre är linjär. Vi hade behövt öka antalet dimensioner för att linjarisera parametern men som modellen ser ut nu så är inte den parametern lämplig att inkludera.  "
   ]
  },
  {
   "cell_type": "markdown",
   "metadata": {},
   "source": [
    "## 7  \n",
    "\n",
    "### a)  \n",
    "\n",
    "$\\overline{x} \\pm Z_{\\alpha/2}\\sigma \\sqrt n$  \n",
    "\n",
    "9.34667 +- -1.96 * 3 * 9  \n",
    "= 9.34667 +- -52.92  \n",
    "\n",
    "L1 = −43,57333  \n",
    "L2 = 62,26667  \n",
    "\n",
    "Eftersom medelvärdet för X är känt tillsammans med stickprovets storlek, Z (utifrån en 95 % konfidensnivå), standardavvikelsen (roten ur variansen) kan vi räkna ut ett konfidensintervall.  \n",
    "\n",
    "### b)  \n",
    "\n",
    "(L2 - 10) / (L1 - L2)  \n",
    "= −0,493827192  \n",
    "\n",
    "Jag tar högsta värdet som det 95 % intervallet kan ha (L2) och drar av 10 för att få fram hur många värden som beräknat kommer vara högre än tio. Det är delen som jag sedan delar på helheten för att få fram ett värde som anger hur många procent av värdena som förväntas vara större än 10, dvs 49 %.  "
   ]
  },
  {
   "cell_type": "markdown",
   "metadata": {},
   "source": [
    "## 8  \n",
    "\n"
   ]
  }
 ],
 "metadata": {
  "language_info": {
   "name": "python"
  }
 },
 "nbformat": 4,
 "nbformat_minor": 2
}
